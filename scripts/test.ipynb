{
 "cells": [
  {
   "cell_type": "code",
   "execution_count": 57,
   "metadata": {
    "collapsed": true
   },
   "outputs": [
    {
     "data": {
      "text/plain": "'E:\\\\backtrader\\\\backtrader\\\\scripts'"
     },
     "execution_count": 57,
     "metadata": {},
     "output_type": "execute_result"
    }
   ],
   "source": [
    "import pandas as pd\n",
    "import os\n",
    "import tqdm\n",
    "cwd = os.getcwd()\n",
    "cwd"
   ]
  },
  {
   "cell_type": "code",
   "execution_count": 58,
   "outputs": [],
   "source": [
    "data_path = os.path.join(cwd, \"..\", \"..\",\"CSMAR\", \"日个股回报率文件\", \"日个股回报率文件\", \"daily_return.csv\")"
   ],
   "metadata": {
    "collapsed": false
   }
  },
  {
   "cell_type": "code",
   "execution_count": 59,
   "outputs": [
    {
     "data": {
      "text/plain": "   id        date  daily_return_divident  daily_return  pre_close_price\n0   1  2018-11-01              -0.007333     -0.007333            10.91\n1   1  2018-11-02               0.024007      0.024007            10.83\n2   1  2018-11-05              -0.015329     -0.015329            11.09\n3   1  2018-11-06              -0.007326     -0.007326            10.92\n4   1  2018-11-07              -0.002768     -0.002768            10.84",
      "text/html": "<div>\n<style scoped>\n    .dataframe tbody tr th:only-of-type {\n        vertical-align: middle;\n    }\n\n    .dataframe tbody tr th {\n        vertical-align: top;\n    }\n\n    .dataframe thead th {\n        text-align: right;\n    }\n</style>\n<table border=\"1\" class=\"dataframe\">\n  <thead>\n    <tr style=\"text-align: right;\">\n      <th></th>\n      <th>id</th>\n      <th>date</th>\n      <th>daily_return_divident</th>\n      <th>daily_return</th>\n      <th>pre_close_price</th>\n    </tr>\n  </thead>\n  <tbody>\n    <tr>\n      <th>0</th>\n      <td>1</td>\n      <td>2018-11-01</td>\n      <td>-0.007333</td>\n      <td>-0.007333</td>\n      <td>10.91</td>\n    </tr>\n    <tr>\n      <th>1</th>\n      <td>1</td>\n      <td>2018-11-02</td>\n      <td>0.024007</td>\n      <td>0.024007</td>\n      <td>10.83</td>\n    </tr>\n    <tr>\n      <th>2</th>\n      <td>1</td>\n      <td>2018-11-05</td>\n      <td>-0.015329</td>\n      <td>-0.015329</td>\n      <td>11.09</td>\n    </tr>\n    <tr>\n      <th>3</th>\n      <td>1</td>\n      <td>2018-11-06</td>\n      <td>-0.007326</td>\n      <td>-0.007326</td>\n      <td>10.92</td>\n    </tr>\n    <tr>\n      <th>4</th>\n      <td>1</td>\n      <td>2018-11-07</td>\n      <td>-0.002768</td>\n      <td>-0.002768</td>\n      <td>10.84</td>\n    </tr>\n  </tbody>\n</table>\n</div>"
     },
     "execution_count": 59,
     "metadata": {},
     "output_type": "execute_result"
    }
   ],
   "source": [
    "df = pd.read_csv(data_path)\n",
    "df.head()"
   ],
   "metadata": {
    "collapsed": false
   }
  },
  {
   "cell_type": "code",
   "execution_count": 60,
   "outputs": [
    {
     "name": "stdout",
     "output_type": "stream",
     "text": [
      "int64\n",
      "object\n",
      "float64\n",
      "float64\n",
      "float64\n"
     ]
    }
   ],
   "source": [
    "for column in df.columns:\n",
    "    print(df[column].dtype)"
   ],
   "metadata": {
    "collapsed": false
   }
  },
  {
   "cell_type": "code",
   "execution_count": 61,
   "outputs": [],
   "source": [
    "df['date'] = pd.to_datetime(df['date'])"
   ],
   "metadata": {
    "collapsed": false
   }
  },
  {
   "cell_type": "code",
   "execution_count": 62,
   "outputs": [
    {
     "name": "stdout",
     "output_type": "stream",
     "text": [
      "交易天数： 1213\n",
      "证券数： 5536\n"
     ]
    },
    {
     "data": {
      "text/plain": "                                date            id\ncount                        5366789  5.366789e+06\nmean   2021-07-07 18:50:44.922839808  3.468228e+05\nmin              2018-11-01 00:00:00  1.000000e+00\n25%              2020-04-22 00:00:00  2.648000e+03\n50%              2021-08-11 00:00:00  3.007490e+05\n75%              2022-10-12 00:00:00  6.011630e+05\nmax              2023-10-31 00:00:00  9.009570e+05\nstd                              NaN  2.763127e+05",
      "text/html": "<div>\n<style scoped>\n    .dataframe tbody tr th:only-of-type {\n        vertical-align: middle;\n    }\n\n    .dataframe tbody tr th {\n        vertical-align: top;\n    }\n\n    .dataframe thead th {\n        text-align: right;\n    }\n</style>\n<table border=\"1\" class=\"dataframe\">\n  <thead>\n    <tr style=\"text-align: right;\">\n      <th></th>\n      <th>date</th>\n      <th>id</th>\n    </tr>\n  </thead>\n  <tbody>\n    <tr>\n      <th>count</th>\n      <td>5366789</td>\n      <td>5.366789e+06</td>\n    </tr>\n    <tr>\n      <th>mean</th>\n      <td>2021-07-07 18:50:44.922839808</td>\n      <td>3.468228e+05</td>\n    </tr>\n    <tr>\n      <th>min</th>\n      <td>2018-11-01 00:00:00</td>\n      <td>1.000000e+00</td>\n    </tr>\n    <tr>\n      <th>25%</th>\n      <td>2020-04-22 00:00:00</td>\n      <td>2.648000e+03</td>\n    </tr>\n    <tr>\n      <th>50%</th>\n      <td>2021-08-11 00:00:00</td>\n      <td>3.007490e+05</td>\n    </tr>\n    <tr>\n      <th>75%</th>\n      <td>2022-10-12 00:00:00</td>\n      <td>6.011630e+05</td>\n    </tr>\n    <tr>\n      <th>max</th>\n      <td>2023-10-31 00:00:00</td>\n      <td>9.009570e+05</td>\n    </tr>\n    <tr>\n      <th>std</th>\n      <td>NaN</td>\n      <td>2.763127e+05</td>\n    </tr>\n  </tbody>\n</table>\n</div>"
     },
     "execution_count": 62,
     "metadata": {},
     "output_type": "execute_result"
    }
   ],
   "source": [
    "time_intervals = df[df['id'] == 1]['date'].count()\n",
    "print(\"交易天数：\",time_intervals)\n",
    "print(\"证券数：\",df['id'].nunique())\n",
    "df[['date', 'id']].describe()"
   ],
   "metadata": {
    "collapsed": false
   }
  },
  {
   "cell_type": "code",
   "execution_count": 63,
   "outputs": [
    {
     "data": {
      "text/plain": "0      2018-11-01\n1      2018-11-02\n2      2018-11-05\n3      2018-11-06\n4      2018-11-07\n          ...    \n1208   2023-10-25\n1209   2023-10-26\n1210   2023-10-27\n1211   2023-10-30\n1212   2023-10-31\nName: date, Length: 1213, dtype: datetime64[ns]"
     },
     "execution_count": 63,
     "metadata": {},
     "output_type": "execute_result"
    }
   ],
   "source": [
    "time_index = df.loc[df['id'] == 1]['date']\n",
    "time_index"
   ],
   "metadata": {
    "collapsed": false
   }
  },
  {
   "cell_type": "code",
   "execution_count": 64,
   "outputs": [
    {
     "data": {
      "text/plain": "           date\n0    2018-11-01\n1    2018-11-02\n2    2018-11-05\n3    2018-11-06\n4    2018-11-07\n...         ...\n1208 2023-10-25\n1209 2023-10-26\n1210 2023-10-27\n1211 2023-10-30\n1212 2023-10-31\n\n[1213 rows x 1 columns]",
      "text/html": "<div>\n<style scoped>\n    .dataframe tbody tr th:only-of-type {\n        vertical-align: middle;\n    }\n\n    .dataframe tbody tr th {\n        vertical-align: top;\n    }\n\n    .dataframe thead th {\n        text-align: right;\n    }\n</style>\n<table border=\"1\" class=\"dataframe\">\n  <thead>\n    <tr style=\"text-align: right;\">\n      <th></th>\n      <th>date</th>\n    </tr>\n  </thead>\n  <tbody>\n    <tr>\n      <th>0</th>\n      <td>2018-11-01</td>\n    </tr>\n    <tr>\n      <th>1</th>\n      <td>2018-11-02</td>\n    </tr>\n    <tr>\n      <th>2</th>\n      <td>2018-11-05</td>\n    </tr>\n    <tr>\n      <th>3</th>\n      <td>2018-11-06</td>\n    </tr>\n    <tr>\n      <th>4</th>\n      <td>2018-11-07</td>\n    </tr>\n    <tr>\n      <th>...</th>\n      <td>...</td>\n    </tr>\n    <tr>\n      <th>1208</th>\n      <td>2023-10-25</td>\n    </tr>\n    <tr>\n      <th>1209</th>\n      <td>2023-10-26</td>\n    </tr>\n    <tr>\n      <th>1210</th>\n      <td>2023-10-27</td>\n    </tr>\n    <tr>\n      <th>1211</th>\n      <td>2023-10-30</td>\n    </tr>\n    <tr>\n      <th>1212</th>\n      <td>2023-10-31</td>\n    </tr>\n  </tbody>\n</table>\n<p>1213 rows × 1 columns</p>\n</div>"
     },
     "execution_count": 64,
     "metadata": {},
     "output_type": "execute_result"
    }
   ],
   "source": [
    "df_ts = df.groupby('id')['date']\n",
    "df_ts_stock = pd.DataFrame(time_index)\n",
    "df_ts_stock"
   ],
   "metadata": {
    "collapsed": false
   }
  },
  {
   "cell_type": "code",
   "execution_count": 65,
   "outputs": [
    {
     "name": "stderr",
     "output_type": "stream",
     "text": [
      "100%|██████████| 5536/5536 [02:02<00:00, 45.27it/s] \n"
     ]
    },
    {
     "data": {
      "text/plain": "           date  daily_return  daily_return_2  daily_return_4  daily_return_5  \\\n0    2018-11-01     -0.007333        0.007842       -0.002574       -0.007326   \n1    2018-11-02      0.024007        0.008190        0.016774        0.018450   \n2    2018-11-05     -0.015329       -0.023558        0.034898        0.018116   \n3    2018-11-06     -0.007326        0.004160       -0.003066        0.003559   \n4    2018-11-07     -0.002768       -0.012013       -0.008610       -0.010638   \n...         ...           ...             ...             ...             ...   \n1208 2023-10-25     -0.016114        0.003431        0.001757        0.014184   \n1209 2023-10-26      0.002890       -0.011111        0.008772       -0.020979   \n1210 2023-10-27      0.003842        0.005186       -0.035362        0.014286   \n1211 2023-10-30      0.000000       -0.002580        0.020433       -0.007042   \n1212 2023-10-31      0.000957       -0.023276        0.021790        0.007092   \n\n      daily_return_6  daily_return_7  daily_return_8  daily_return_9  \\\n0          -0.005917       -0.012414       -0.013605        0.002488   \n1           0.019841        0.001397        0.004598        0.027295   \n2          -0.001946        0.065551        0.034325        0.036232   \n3          -0.001949       -0.079843       -0.019912        0.027972   \n4          -0.007813        0.000000             NaN       -0.022676   \n...              ...             ...             ...             ...   \n1208        0.014052       -0.034137        0.017241        0.000000   \n1209       -0.011547       -0.027027       -0.004237       -0.002988   \n1210        0.009346        0.027778        0.004255        0.024975   \n1211        0.000000        0.014553        0.000000        0.010721   \n1212        0.000000        0.028689        0.000000       -0.003857   \n\n      daily_return_10  ...  daily_return_900945  daily_return_900946  \\\n0           -0.009132  ...            -0.003021             0.006803   \n1            0.009217  ...             0.018182             0.016892   \n2            0.004566  ...             0.002976             0.000000   \n3           -0.013636  ...            -0.014837            -0.006645   \n4            0.002304  ...            -0.003012            -0.003344   \n...               ...  ...                  ...                  ...   \n1208         0.012690  ...             0.000000             0.006135   \n1209         0.017544  ...             0.005650            -0.006098   \n1210        -0.032020  ...             0.022472             0.018405   \n1211         0.000000  ...             0.000000             0.018072   \n1212         0.043257  ...             0.000000             0.000000   \n\n      daily_return_900947  daily_return_900948  daily_return_900951  \\\n0                0.005780            -0.010943             0.012500   \n1                0.020115             0.016170             0.019753   \n2               -0.011268            -0.008375            -0.002421   \n3                0.002849            -0.003378            -0.029126   \n4               -0.011364            -0.001695             0.002500   \n...                   ...                  ...                  ...   \n1208             0.005025             0.017126                  NaN   \n1209             0.000000            -0.008785                  NaN   \n1210             0.020000             0.005908                  NaN   \n1211             0.000000            -0.001468                  NaN   \n1212            -0.009804             0.008824                  NaN   \n\n      daily_return_900952  daily_return_900953  daily_return_900955  \\\n0               -0.008646             0.000000             0.000000   \n1                0.008721             0.015326             0.009615   \n2                0.002882             0.005660             0.015873   \n3                0.011494            -0.037523            -0.012500   \n4                0.002841            -0.005848            -0.009494   \n...                   ...                  ...                  ...   \n1208             0.020619             0.003289                  NaN   \n1209            -0.005051             0.013115                  NaN   \n1210             0.005076             0.016181                  NaN   \n1211            -0.005051             0.038217                  NaN   \n1212            -0.035533             0.000000                  NaN   \n\n      daily_return_900956  daily_return_900957  \n0               -0.010000            -0.007974  \n1                0.017677             0.019293  \n2               -0.007444            -0.006309  \n3               -0.015000            -0.025397  \n4               -0.010152            -0.006515  \n...                   ...                  ...  \n1208                  NaN             0.017143  \n1209                  NaN             0.022472  \n1210                  NaN             0.016484  \n1211                  NaN             0.062162  \n1212                  NaN             0.015267  \n\n[1213 rows x 5537 columns]",
      "text/html": "<div>\n<style scoped>\n    .dataframe tbody tr th:only-of-type {\n        vertical-align: middle;\n    }\n\n    .dataframe tbody tr th {\n        vertical-align: top;\n    }\n\n    .dataframe thead th {\n        text-align: right;\n    }\n</style>\n<table border=\"1\" class=\"dataframe\">\n  <thead>\n    <tr style=\"text-align: right;\">\n      <th></th>\n      <th>date</th>\n      <th>daily_return</th>\n      <th>daily_return_2</th>\n      <th>daily_return_4</th>\n      <th>daily_return_5</th>\n      <th>daily_return_6</th>\n      <th>daily_return_7</th>\n      <th>daily_return_8</th>\n      <th>daily_return_9</th>\n      <th>daily_return_10</th>\n      <th>...</th>\n      <th>daily_return_900945</th>\n      <th>daily_return_900946</th>\n      <th>daily_return_900947</th>\n      <th>daily_return_900948</th>\n      <th>daily_return_900951</th>\n      <th>daily_return_900952</th>\n      <th>daily_return_900953</th>\n      <th>daily_return_900955</th>\n      <th>daily_return_900956</th>\n      <th>daily_return_900957</th>\n    </tr>\n  </thead>\n  <tbody>\n    <tr>\n      <th>0</th>\n      <td>2018-11-01</td>\n      <td>-0.007333</td>\n      <td>0.007842</td>\n      <td>-0.002574</td>\n      <td>-0.007326</td>\n      <td>-0.005917</td>\n      <td>-0.012414</td>\n      <td>-0.013605</td>\n      <td>0.002488</td>\n      <td>-0.009132</td>\n      <td>...</td>\n      <td>-0.003021</td>\n      <td>0.006803</td>\n      <td>0.005780</td>\n      <td>-0.010943</td>\n      <td>0.012500</td>\n      <td>-0.008646</td>\n      <td>0.000000</td>\n      <td>0.000000</td>\n      <td>-0.010000</td>\n      <td>-0.007974</td>\n    </tr>\n    <tr>\n      <th>1</th>\n      <td>2018-11-02</td>\n      <td>0.024007</td>\n      <td>0.008190</td>\n      <td>0.016774</td>\n      <td>0.018450</td>\n      <td>0.019841</td>\n      <td>0.001397</td>\n      <td>0.004598</td>\n      <td>0.027295</td>\n      <td>0.009217</td>\n      <td>...</td>\n      <td>0.018182</td>\n      <td>0.016892</td>\n      <td>0.020115</td>\n      <td>0.016170</td>\n      <td>0.019753</td>\n      <td>0.008721</td>\n      <td>0.015326</td>\n      <td>0.009615</td>\n      <td>0.017677</td>\n      <td>0.019293</td>\n    </tr>\n    <tr>\n      <th>2</th>\n      <td>2018-11-05</td>\n      <td>-0.015329</td>\n      <td>-0.023558</td>\n      <td>0.034898</td>\n      <td>0.018116</td>\n      <td>-0.001946</td>\n      <td>0.065551</td>\n      <td>0.034325</td>\n      <td>0.036232</td>\n      <td>0.004566</td>\n      <td>...</td>\n      <td>0.002976</td>\n      <td>0.000000</td>\n      <td>-0.011268</td>\n      <td>-0.008375</td>\n      <td>-0.002421</td>\n      <td>0.002882</td>\n      <td>0.005660</td>\n      <td>0.015873</td>\n      <td>-0.007444</td>\n      <td>-0.006309</td>\n    </tr>\n    <tr>\n      <th>3</th>\n      <td>2018-11-06</td>\n      <td>-0.007326</td>\n      <td>0.004160</td>\n      <td>-0.003066</td>\n      <td>0.003559</td>\n      <td>-0.001949</td>\n      <td>-0.079843</td>\n      <td>-0.019912</td>\n      <td>0.027972</td>\n      <td>-0.013636</td>\n      <td>...</td>\n      <td>-0.014837</td>\n      <td>-0.006645</td>\n      <td>0.002849</td>\n      <td>-0.003378</td>\n      <td>-0.029126</td>\n      <td>0.011494</td>\n      <td>-0.037523</td>\n      <td>-0.012500</td>\n      <td>-0.015000</td>\n      <td>-0.025397</td>\n    </tr>\n    <tr>\n      <th>4</th>\n      <td>2018-11-07</td>\n      <td>-0.002768</td>\n      <td>-0.012013</td>\n      <td>-0.008610</td>\n      <td>-0.010638</td>\n      <td>-0.007813</td>\n      <td>0.000000</td>\n      <td>NaN</td>\n      <td>-0.022676</td>\n      <td>0.002304</td>\n      <td>...</td>\n      <td>-0.003012</td>\n      <td>-0.003344</td>\n      <td>-0.011364</td>\n      <td>-0.001695</td>\n      <td>0.002500</td>\n      <td>0.002841</td>\n      <td>-0.005848</td>\n      <td>-0.009494</td>\n      <td>-0.010152</td>\n      <td>-0.006515</td>\n    </tr>\n    <tr>\n      <th>...</th>\n      <td>...</td>\n      <td>...</td>\n      <td>...</td>\n      <td>...</td>\n      <td>...</td>\n      <td>...</td>\n      <td>...</td>\n      <td>...</td>\n      <td>...</td>\n      <td>...</td>\n      <td>...</td>\n      <td>...</td>\n      <td>...</td>\n      <td>...</td>\n      <td>...</td>\n      <td>...</td>\n      <td>...</td>\n      <td>...</td>\n      <td>...</td>\n      <td>...</td>\n      <td>...</td>\n    </tr>\n    <tr>\n      <th>1208</th>\n      <td>2023-10-25</td>\n      <td>-0.016114</td>\n      <td>0.003431</td>\n      <td>0.001757</td>\n      <td>0.014184</td>\n      <td>0.014052</td>\n      <td>-0.034137</td>\n      <td>0.017241</td>\n      <td>0.000000</td>\n      <td>0.012690</td>\n      <td>...</td>\n      <td>0.000000</td>\n      <td>0.006135</td>\n      <td>0.005025</td>\n      <td>0.017126</td>\n      <td>NaN</td>\n      <td>0.020619</td>\n      <td>0.003289</td>\n      <td>NaN</td>\n      <td>NaN</td>\n      <td>0.017143</td>\n    </tr>\n    <tr>\n      <th>1209</th>\n      <td>2023-10-26</td>\n      <td>0.002890</td>\n      <td>-0.011111</td>\n      <td>0.008772</td>\n      <td>-0.020979</td>\n      <td>-0.011547</td>\n      <td>-0.027027</td>\n      <td>-0.004237</td>\n      <td>-0.002988</td>\n      <td>0.017544</td>\n      <td>...</td>\n      <td>0.005650</td>\n      <td>-0.006098</td>\n      <td>0.000000</td>\n      <td>-0.008785</td>\n      <td>NaN</td>\n      <td>-0.005051</td>\n      <td>0.013115</td>\n      <td>NaN</td>\n      <td>NaN</td>\n      <td>0.022472</td>\n    </tr>\n    <tr>\n      <th>1210</th>\n      <td>2023-10-27</td>\n      <td>0.003842</td>\n      <td>0.005186</td>\n      <td>-0.035362</td>\n      <td>0.014286</td>\n      <td>0.009346</td>\n      <td>0.027778</td>\n      <td>0.004255</td>\n      <td>0.024975</td>\n      <td>-0.032020</td>\n      <td>...</td>\n      <td>0.022472</td>\n      <td>0.018405</td>\n      <td>0.020000</td>\n      <td>0.005908</td>\n      <td>NaN</td>\n      <td>0.005076</td>\n      <td>0.016181</td>\n      <td>NaN</td>\n      <td>NaN</td>\n      <td>0.016484</td>\n    </tr>\n    <tr>\n      <th>1211</th>\n      <td>2023-10-30</td>\n      <td>0.000000</td>\n      <td>-0.002580</td>\n      <td>0.020433</td>\n      <td>-0.007042</td>\n      <td>0.000000</td>\n      <td>0.014553</td>\n      <td>0.000000</td>\n      <td>0.010721</td>\n      <td>0.000000</td>\n      <td>...</td>\n      <td>0.000000</td>\n      <td>0.018072</td>\n      <td>0.000000</td>\n      <td>-0.001468</td>\n      <td>NaN</td>\n      <td>-0.005051</td>\n      <td>0.038217</td>\n      <td>NaN</td>\n      <td>NaN</td>\n      <td>0.062162</td>\n    </tr>\n    <tr>\n      <th>1212</th>\n      <td>2023-10-31</td>\n      <td>0.000957</td>\n      <td>-0.023276</td>\n      <td>0.021790</td>\n      <td>0.007092</td>\n      <td>0.000000</td>\n      <td>0.028689</td>\n      <td>0.000000</td>\n      <td>-0.003857</td>\n      <td>0.043257</td>\n      <td>...</td>\n      <td>0.000000</td>\n      <td>0.000000</td>\n      <td>-0.009804</td>\n      <td>0.008824</td>\n      <td>NaN</td>\n      <td>-0.035533</td>\n      <td>0.000000</td>\n      <td>NaN</td>\n      <td>NaN</td>\n      <td>0.015267</td>\n    </tr>\n  </tbody>\n</table>\n<p>1213 rows × 5537 columns</p>\n</div>"
     },
     "execution_count": 65,
     "metadata": {},
     "output_type": "execute_result"
    }
   ],
   "source": [
    "for k, v in tqdm.tqdm(df_ts.groups.items()):\n",
    "    df_ts_stock = pd.merge(df_ts_stock, df.iloc[v][['date','daily_return']], on='date', how='left', suffixes=(\"\", f\"_{k}\"))\n",
    "df_ts_stock"
   ],
   "metadata": {
    "collapsed": false
   }
  },
  {
   "cell_type": "code",
   "execution_count": 70,
   "outputs": [
    {
     "data": {
      "text/plain": "           date  daily_return_1  daily_return_2  daily_return_4  \\\n0    2018-11-01       -0.007333        0.007842       -0.002574   \n1    2018-11-02        0.024007        0.008190        0.016774   \n2    2018-11-05       -0.015329       -0.023558        0.034898   \n3    2018-11-06       -0.007326        0.004160       -0.003066   \n4    2018-11-07       -0.002768       -0.012013       -0.008610   \n...         ...             ...             ...             ...   \n1208 2023-10-25       -0.016114        0.003431        0.001757   \n1209 2023-10-26        0.002890       -0.011111        0.008772   \n1210 2023-10-27        0.003842        0.005186       -0.035362   \n1211 2023-10-30        0.000000       -0.002580        0.020433   \n1212 2023-10-31        0.000957       -0.023276        0.021790   \n\n      daily_return_5  daily_return_6  daily_return_7  daily_return_8  \\\n0          -0.007326       -0.005917       -0.012414       -0.013605   \n1           0.018450        0.019841        0.001397        0.004598   \n2           0.018116       -0.001946        0.065551        0.034325   \n3           0.003559       -0.001949       -0.079843       -0.019912   \n4          -0.010638       -0.007813        0.000000             NaN   \n...              ...             ...             ...             ...   \n1208        0.014184        0.014052       -0.034137        0.017241   \n1209       -0.020979       -0.011547       -0.027027       -0.004237   \n1210        0.014286        0.009346        0.027778        0.004255   \n1211       -0.007042        0.000000        0.014553        0.000000   \n1212        0.007092        0.000000        0.028689        0.000000   \n\n      daily_return_9  daily_return_10  ...  daily_return_900945  \\\n0           0.002488        -0.009132  ...            -0.003021   \n1           0.027295         0.009217  ...             0.018182   \n2           0.036232         0.004566  ...             0.002976   \n3           0.027972        -0.013636  ...            -0.014837   \n4          -0.022676         0.002304  ...            -0.003012   \n...              ...              ...  ...                  ...   \n1208        0.000000         0.012690  ...             0.000000   \n1209       -0.002988         0.017544  ...             0.005650   \n1210        0.024975        -0.032020  ...             0.022472   \n1211        0.010721         0.000000  ...             0.000000   \n1212       -0.003857         0.043257  ...             0.000000   \n\n      daily_return_900946  daily_return_900947  daily_return_900948  \\\n0                0.006803             0.005780            -0.010943   \n1                0.016892             0.020115             0.016170   \n2                0.000000            -0.011268            -0.008375   \n3               -0.006645             0.002849            -0.003378   \n4               -0.003344            -0.011364            -0.001695   \n...                   ...                  ...                  ...   \n1208             0.006135             0.005025             0.017126   \n1209            -0.006098             0.000000            -0.008785   \n1210             0.018405             0.020000             0.005908   \n1211             0.018072             0.000000            -0.001468   \n1212             0.000000            -0.009804             0.008824   \n\n      daily_return_900951  daily_return_900952  daily_return_900953  \\\n0                0.012500            -0.008646             0.000000   \n1                0.019753             0.008721             0.015326   \n2               -0.002421             0.002882             0.005660   \n3               -0.029126             0.011494            -0.037523   \n4                0.002500             0.002841            -0.005848   \n...                   ...                  ...                  ...   \n1208                  NaN             0.020619             0.003289   \n1209                  NaN            -0.005051             0.013115   \n1210                  NaN             0.005076             0.016181   \n1211                  NaN            -0.005051             0.038217   \n1212                  NaN            -0.035533             0.000000   \n\n      daily_return_900955  daily_return_900956  daily_return_900957  \n0                0.000000            -0.010000            -0.007974  \n1                0.009615             0.017677             0.019293  \n2                0.015873            -0.007444            -0.006309  \n3               -0.012500            -0.015000            -0.025397  \n4               -0.009494            -0.010152            -0.006515  \n...                   ...                  ...                  ...  \n1208                  NaN                  NaN             0.017143  \n1209                  NaN                  NaN             0.022472  \n1210                  NaN                  NaN             0.016484  \n1211                  NaN                  NaN             0.062162  \n1212                  NaN                  NaN             0.015267  \n\n[1213 rows x 5537 columns]",
      "text/html": "<div>\n<style scoped>\n    .dataframe tbody tr th:only-of-type {\n        vertical-align: middle;\n    }\n\n    .dataframe tbody tr th {\n        vertical-align: top;\n    }\n\n    .dataframe thead th {\n        text-align: right;\n    }\n</style>\n<table border=\"1\" class=\"dataframe\">\n  <thead>\n    <tr style=\"text-align: right;\">\n      <th></th>\n      <th>date</th>\n      <th>daily_return_1</th>\n      <th>daily_return_2</th>\n      <th>daily_return_4</th>\n      <th>daily_return_5</th>\n      <th>daily_return_6</th>\n      <th>daily_return_7</th>\n      <th>daily_return_8</th>\n      <th>daily_return_9</th>\n      <th>daily_return_10</th>\n      <th>...</th>\n      <th>daily_return_900945</th>\n      <th>daily_return_900946</th>\n      <th>daily_return_900947</th>\n      <th>daily_return_900948</th>\n      <th>daily_return_900951</th>\n      <th>daily_return_900952</th>\n      <th>daily_return_900953</th>\n      <th>daily_return_900955</th>\n      <th>daily_return_900956</th>\n      <th>daily_return_900957</th>\n    </tr>\n  </thead>\n  <tbody>\n    <tr>\n      <th>0</th>\n      <td>2018-11-01</td>\n      <td>-0.007333</td>\n      <td>0.007842</td>\n      <td>-0.002574</td>\n      <td>-0.007326</td>\n      <td>-0.005917</td>\n      <td>-0.012414</td>\n      <td>-0.013605</td>\n      <td>0.002488</td>\n      <td>-0.009132</td>\n      <td>...</td>\n      <td>-0.003021</td>\n      <td>0.006803</td>\n      <td>0.005780</td>\n      <td>-0.010943</td>\n      <td>0.012500</td>\n      <td>-0.008646</td>\n      <td>0.000000</td>\n      <td>0.000000</td>\n      <td>-0.010000</td>\n      <td>-0.007974</td>\n    </tr>\n    <tr>\n      <th>1</th>\n      <td>2018-11-02</td>\n      <td>0.024007</td>\n      <td>0.008190</td>\n      <td>0.016774</td>\n      <td>0.018450</td>\n      <td>0.019841</td>\n      <td>0.001397</td>\n      <td>0.004598</td>\n      <td>0.027295</td>\n      <td>0.009217</td>\n      <td>...</td>\n      <td>0.018182</td>\n      <td>0.016892</td>\n      <td>0.020115</td>\n      <td>0.016170</td>\n      <td>0.019753</td>\n      <td>0.008721</td>\n      <td>0.015326</td>\n      <td>0.009615</td>\n      <td>0.017677</td>\n      <td>0.019293</td>\n    </tr>\n    <tr>\n      <th>2</th>\n      <td>2018-11-05</td>\n      <td>-0.015329</td>\n      <td>-0.023558</td>\n      <td>0.034898</td>\n      <td>0.018116</td>\n      <td>-0.001946</td>\n      <td>0.065551</td>\n      <td>0.034325</td>\n      <td>0.036232</td>\n      <td>0.004566</td>\n      <td>...</td>\n      <td>0.002976</td>\n      <td>0.000000</td>\n      <td>-0.011268</td>\n      <td>-0.008375</td>\n      <td>-0.002421</td>\n      <td>0.002882</td>\n      <td>0.005660</td>\n      <td>0.015873</td>\n      <td>-0.007444</td>\n      <td>-0.006309</td>\n    </tr>\n    <tr>\n      <th>3</th>\n      <td>2018-11-06</td>\n      <td>-0.007326</td>\n      <td>0.004160</td>\n      <td>-0.003066</td>\n      <td>0.003559</td>\n      <td>-0.001949</td>\n      <td>-0.079843</td>\n      <td>-0.019912</td>\n      <td>0.027972</td>\n      <td>-0.013636</td>\n      <td>...</td>\n      <td>-0.014837</td>\n      <td>-0.006645</td>\n      <td>0.002849</td>\n      <td>-0.003378</td>\n      <td>-0.029126</td>\n      <td>0.011494</td>\n      <td>-0.037523</td>\n      <td>-0.012500</td>\n      <td>-0.015000</td>\n      <td>-0.025397</td>\n    </tr>\n    <tr>\n      <th>4</th>\n      <td>2018-11-07</td>\n      <td>-0.002768</td>\n      <td>-0.012013</td>\n      <td>-0.008610</td>\n      <td>-0.010638</td>\n      <td>-0.007813</td>\n      <td>0.000000</td>\n      <td>NaN</td>\n      <td>-0.022676</td>\n      <td>0.002304</td>\n      <td>...</td>\n      <td>-0.003012</td>\n      <td>-0.003344</td>\n      <td>-0.011364</td>\n      <td>-0.001695</td>\n      <td>0.002500</td>\n      <td>0.002841</td>\n      <td>-0.005848</td>\n      <td>-0.009494</td>\n      <td>-0.010152</td>\n      <td>-0.006515</td>\n    </tr>\n    <tr>\n      <th>...</th>\n      <td>...</td>\n      <td>...</td>\n      <td>...</td>\n      <td>...</td>\n      <td>...</td>\n      <td>...</td>\n      <td>...</td>\n      <td>...</td>\n      <td>...</td>\n      <td>...</td>\n      <td>...</td>\n      <td>...</td>\n      <td>...</td>\n      <td>...</td>\n      <td>...</td>\n      <td>...</td>\n      <td>...</td>\n      <td>...</td>\n      <td>...</td>\n      <td>...</td>\n      <td>...</td>\n    </tr>\n    <tr>\n      <th>1208</th>\n      <td>2023-10-25</td>\n      <td>-0.016114</td>\n      <td>0.003431</td>\n      <td>0.001757</td>\n      <td>0.014184</td>\n      <td>0.014052</td>\n      <td>-0.034137</td>\n      <td>0.017241</td>\n      <td>0.000000</td>\n      <td>0.012690</td>\n      <td>...</td>\n      <td>0.000000</td>\n      <td>0.006135</td>\n      <td>0.005025</td>\n      <td>0.017126</td>\n      <td>NaN</td>\n      <td>0.020619</td>\n      <td>0.003289</td>\n      <td>NaN</td>\n      <td>NaN</td>\n      <td>0.017143</td>\n    </tr>\n    <tr>\n      <th>1209</th>\n      <td>2023-10-26</td>\n      <td>0.002890</td>\n      <td>-0.011111</td>\n      <td>0.008772</td>\n      <td>-0.020979</td>\n      <td>-0.011547</td>\n      <td>-0.027027</td>\n      <td>-0.004237</td>\n      <td>-0.002988</td>\n      <td>0.017544</td>\n      <td>...</td>\n      <td>0.005650</td>\n      <td>-0.006098</td>\n      <td>0.000000</td>\n      <td>-0.008785</td>\n      <td>NaN</td>\n      <td>-0.005051</td>\n      <td>0.013115</td>\n      <td>NaN</td>\n      <td>NaN</td>\n      <td>0.022472</td>\n    </tr>\n    <tr>\n      <th>1210</th>\n      <td>2023-10-27</td>\n      <td>0.003842</td>\n      <td>0.005186</td>\n      <td>-0.035362</td>\n      <td>0.014286</td>\n      <td>0.009346</td>\n      <td>0.027778</td>\n      <td>0.004255</td>\n      <td>0.024975</td>\n      <td>-0.032020</td>\n      <td>...</td>\n      <td>0.022472</td>\n      <td>0.018405</td>\n      <td>0.020000</td>\n      <td>0.005908</td>\n      <td>NaN</td>\n      <td>0.005076</td>\n      <td>0.016181</td>\n      <td>NaN</td>\n      <td>NaN</td>\n      <td>0.016484</td>\n    </tr>\n    <tr>\n      <th>1211</th>\n      <td>2023-10-30</td>\n      <td>0.000000</td>\n      <td>-0.002580</td>\n      <td>0.020433</td>\n      <td>-0.007042</td>\n      <td>0.000000</td>\n      <td>0.014553</td>\n      <td>0.000000</td>\n      <td>0.010721</td>\n      <td>0.000000</td>\n      <td>...</td>\n      <td>0.000000</td>\n      <td>0.018072</td>\n      <td>0.000000</td>\n      <td>-0.001468</td>\n      <td>NaN</td>\n      <td>-0.005051</td>\n      <td>0.038217</td>\n      <td>NaN</td>\n      <td>NaN</td>\n      <td>0.062162</td>\n    </tr>\n    <tr>\n      <th>1212</th>\n      <td>2023-10-31</td>\n      <td>0.000957</td>\n      <td>-0.023276</td>\n      <td>0.021790</td>\n      <td>0.007092</td>\n      <td>0.000000</td>\n      <td>0.028689</td>\n      <td>0.000000</td>\n      <td>-0.003857</td>\n      <td>0.043257</td>\n      <td>...</td>\n      <td>0.000000</td>\n      <td>0.000000</td>\n      <td>-0.009804</td>\n      <td>0.008824</td>\n      <td>NaN</td>\n      <td>-0.035533</td>\n      <td>0.000000</td>\n      <td>NaN</td>\n      <td>NaN</td>\n      <td>0.015267</td>\n    </tr>\n  </tbody>\n</table>\n<p>1213 rows × 5537 columns</p>\n</div>"
     },
     "execution_count": 70,
     "metadata": {},
     "output_type": "execute_result"
    }
   ],
   "source": [
    "df_ts_stock.rename(columns={'daily_return': 'daily_return_1'}, inplace=True)\n",
    "df_ts_stock"
   ],
   "metadata": {
    "collapsed": false
   }
  },
  {
   "cell_type": "code",
   "execution_count": 81,
   "outputs": [],
   "source": [
    "df_cov = df_ts_stock.select_dtypes(include='number')"
   ],
   "metadata": {
    "collapsed": false
   }
  },
  {
   "cell_type": "code",
   "execution_count": 83,
   "outputs": [],
   "source": [
    "cov_matrix = df_cov.cov()"
   ],
   "metadata": {
    "collapsed": false
   }
  },
  {
   "cell_type": "code",
   "execution_count": 84,
   "outputs": [
    {
     "data": {
      "text/plain": "                     daily_return_1  daily_return_2  daily_return_4  \\\ndaily_return_1             0.000427        0.000247        0.000080   \ndaily_return_2             0.000247        0.000462        0.000047   \ndaily_return_4             0.000080        0.000047        0.001237   \ndaily_return_5             0.000074        0.000092        0.000189   \ndaily_return_6             0.000148        0.000241        0.000131   \n...                             ...             ...             ...   \ndaily_return_900952        0.000092        0.000084        0.000087   \ndaily_return_900953        0.000112        0.000111        0.000121   \ndaily_return_900955        0.000100        0.000119        0.000131   \ndaily_return_900956        0.000110        0.000087        0.000158   \ndaily_return_900957        0.000110        0.000098        0.000119   \n\n                     daily_return_5  daily_return_6  daily_return_7  \\\ndaily_return_1             0.000074        0.000148        0.000045   \ndaily_return_2             0.000092        0.000241        0.000073   \ndaily_return_4             0.000189        0.000131        0.000145   \ndaily_return_5             0.000515        0.000195        0.000160   \ndaily_return_6             0.000195        0.000610        0.000122   \n...                             ...             ...             ...   \ndaily_return_900952        0.000098        0.000109        0.000045   \ndaily_return_900953        0.000121        0.000144        0.000072   \ndaily_return_900955        0.000152        0.000174        0.000135   \ndaily_return_900956        0.000153        0.000178        0.000095   \ndaily_return_900957        0.000115        0.000134        0.000069   \n\n                     daily_return_8  daily_return_9  daily_return_10  \\\ndaily_return_1             0.000118        0.000101         0.000080   \ndaily_return_2             0.000119        0.000087         0.000073   \ndaily_return_4             0.000165        0.000248         0.000076   \ndaily_return_5             0.000172        0.000209         0.000167   \ndaily_return_6             0.000169        0.000196         0.000159   \n...                             ...             ...              ...   \ndaily_return_900952        0.000097        0.000124         0.000095   \ndaily_return_900953        0.000134        0.000207         0.000105   \ndaily_return_900955        0.000140        0.000100         0.000111   \ndaily_return_900956        0.000140        0.000208         0.000125   \ndaily_return_900957        0.000121        0.000199         0.000118   \n\n                     daily_return_11  ...  daily_return_900945  \\\ndaily_return_1              0.000158  ...             0.000097   \ndaily_return_2              0.000253  ...             0.000080   \ndaily_return_4              0.000173  ...             0.000093   \ndaily_return_5              0.000220  ...             0.000125   \ndaily_return_6              0.000477  ...             0.000097   \n...                              ...  ...                  ...   \ndaily_return_900952         0.000106  ...             0.000105   \ndaily_return_900953         0.000143  ...             0.000122   \ndaily_return_900955         0.000193  ...             0.000255   \ndaily_return_900956         0.000210  ...             0.000160   \ndaily_return_900957         0.000136  ...             0.000119   \n\n                     daily_return_900946  daily_return_900947  \\\ndaily_return_1                  0.000092             0.000094   \ndaily_return_2                  0.000061             0.000096   \ndaily_return_4                  0.000099             0.000071   \ndaily_return_5                  0.000113             0.000096   \ndaily_return_6                  0.000122             0.000116   \n...                                  ...                  ...   \ndaily_return_900952             0.000093             0.000117   \ndaily_return_900953             0.000141             0.000141   \ndaily_return_900955             0.000140             0.000124   \ndaily_return_900956             0.000140             0.000130   \ndaily_return_900957             0.000132             0.000142   \n\n                     daily_return_900948  daily_return_900951  \\\ndaily_return_1                  0.000131             0.000094   \ndaily_return_2                  0.000115             0.000076   \ndaily_return_4                  0.000075             0.000082   \ndaily_return_5                  0.000102             0.000102   \ndaily_return_6                  0.000122             0.000125   \n...                                  ...                  ...   \ndaily_return_900952             0.000127             0.000108   \ndaily_return_900953             0.000176             0.000214   \ndaily_return_900955             0.000112             0.000127   \ndaily_return_900956             0.000126             0.000029   \ndaily_return_900957             0.000166             0.000199   \n\n                     daily_return_900952  daily_return_900953  \\\ndaily_return_1                  0.000092             0.000112   \ndaily_return_2                  0.000084             0.000111   \ndaily_return_4                  0.000087             0.000121   \ndaily_return_5                  0.000098             0.000121   \ndaily_return_6                  0.000109             0.000144   \n...                                  ...                  ...   \ndaily_return_900952             0.000238             0.000133   \ndaily_return_900953             0.000133             0.000567   \ndaily_return_900955             0.000131             0.000166   \ndaily_return_900956             0.000140             0.000241   \ndaily_return_900957             0.000139             0.000356   \n\n                     daily_return_900955  daily_return_900956  \\\ndaily_return_1                  0.000100             0.000110   \ndaily_return_2                  0.000119             0.000087   \ndaily_return_4                  0.000131             0.000158   \ndaily_return_5                  0.000152             0.000153   \ndaily_return_6                  0.000174             0.000178   \n...                                  ...                  ...   \ndaily_return_900952             0.000131             0.000140   \ndaily_return_900953             0.000166             0.000241   \ndaily_return_900955             0.001397             0.000211   \ndaily_return_900956             0.000211             0.000514   \ndaily_return_900957             0.000122             0.000267   \n\n                     daily_return_900957  \ndaily_return_1                  0.000110  \ndaily_return_2                  0.000098  \ndaily_return_4                  0.000119  \ndaily_return_5                  0.000115  \ndaily_return_6                  0.000134  \n...                                  ...  \ndaily_return_900952             0.000139  \ndaily_return_900953             0.000356  \ndaily_return_900955             0.000122  \ndaily_return_900956             0.000267  \ndaily_return_900957             0.000427  \n\n[5536 rows x 5536 columns]",
      "text/html": "<div>\n<style scoped>\n    .dataframe tbody tr th:only-of-type {\n        vertical-align: middle;\n    }\n\n    .dataframe tbody tr th {\n        vertical-align: top;\n    }\n\n    .dataframe thead th {\n        text-align: right;\n    }\n</style>\n<table border=\"1\" class=\"dataframe\">\n  <thead>\n    <tr style=\"text-align: right;\">\n      <th></th>\n      <th>daily_return_1</th>\n      <th>daily_return_2</th>\n      <th>daily_return_4</th>\n      <th>daily_return_5</th>\n      <th>daily_return_6</th>\n      <th>daily_return_7</th>\n      <th>daily_return_8</th>\n      <th>daily_return_9</th>\n      <th>daily_return_10</th>\n      <th>daily_return_11</th>\n      <th>...</th>\n      <th>daily_return_900945</th>\n      <th>daily_return_900946</th>\n      <th>daily_return_900947</th>\n      <th>daily_return_900948</th>\n      <th>daily_return_900951</th>\n      <th>daily_return_900952</th>\n      <th>daily_return_900953</th>\n      <th>daily_return_900955</th>\n      <th>daily_return_900956</th>\n      <th>daily_return_900957</th>\n    </tr>\n  </thead>\n  <tbody>\n    <tr>\n      <th>daily_return_1</th>\n      <td>0.000427</td>\n      <td>0.000247</td>\n      <td>0.000080</td>\n      <td>0.000074</td>\n      <td>0.000148</td>\n      <td>0.000045</td>\n      <td>0.000118</td>\n      <td>0.000101</td>\n      <td>0.000080</td>\n      <td>0.000158</td>\n      <td>...</td>\n      <td>0.000097</td>\n      <td>0.000092</td>\n      <td>0.000094</td>\n      <td>0.000131</td>\n      <td>0.000094</td>\n      <td>0.000092</td>\n      <td>0.000112</td>\n      <td>0.000100</td>\n      <td>0.000110</td>\n      <td>0.000110</td>\n    </tr>\n    <tr>\n      <th>daily_return_2</th>\n      <td>0.000247</td>\n      <td>0.000462</td>\n      <td>0.000047</td>\n      <td>0.000092</td>\n      <td>0.000241</td>\n      <td>0.000073</td>\n      <td>0.000119</td>\n      <td>0.000087</td>\n      <td>0.000073</td>\n      <td>0.000253</td>\n      <td>...</td>\n      <td>0.000080</td>\n      <td>0.000061</td>\n      <td>0.000096</td>\n      <td>0.000115</td>\n      <td>0.000076</td>\n      <td>0.000084</td>\n      <td>0.000111</td>\n      <td>0.000119</td>\n      <td>0.000087</td>\n      <td>0.000098</td>\n    </tr>\n    <tr>\n      <th>daily_return_4</th>\n      <td>0.000080</td>\n      <td>0.000047</td>\n      <td>0.001237</td>\n      <td>0.000189</td>\n      <td>0.000131</td>\n      <td>0.000145</td>\n      <td>0.000165</td>\n      <td>0.000248</td>\n      <td>0.000076</td>\n      <td>0.000173</td>\n      <td>...</td>\n      <td>0.000093</td>\n      <td>0.000099</td>\n      <td>0.000071</td>\n      <td>0.000075</td>\n      <td>0.000082</td>\n      <td>0.000087</td>\n      <td>0.000121</td>\n      <td>0.000131</td>\n      <td>0.000158</td>\n      <td>0.000119</td>\n    </tr>\n    <tr>\n      <th>daily_return_5</th>\n      <td>0.000074</td>\n      <td>0.000092</td>\n      <td>0.000189</td>\n      <td>0.000515</td>\n      <td>0.000195</td>\n      <td>0.000160</td>\n      <td>0.000172</td>\n      <td>0.000209</td>\n      <td>0.000167</td>\n      <td>0.000220</td>\n      <td>...</td>\n      <td>0.000125</td>\n      <td>0.000113</td>\n      <td>0.000096</td>\n      <td>0.000102</td>\n      <td>0.000102</td>\n      <td>0.000098</td>\n      <td>0.000121</td>\n      <td>0.000152</td>\n      <td>0.000153</td>\n      <td>0.000115</td>\n    </tr>\n    <tr>\n      <th>daily_return_6</th>\n      <td>0.000148</td>\n      <td>0.000241</td>\n      <td>0.000131</td>\n      <td>0.000195</td>\n      <td>0.000610</td>\n      <td>0.000122</td>\n      <td>0.000169</td>\n      <td>0.000196</td>\n      <td>0.000159</td>\n      <td>0.000477</td>\n      <td>...</td>\n      <td>0.000097</td>\n      <td>0.000122</td>\n      <td>0.000116</td>\n      <td>0.000122</td>\n      <td>0.000125</td>\n      <td>0.000109</td>\n      <td>0.000144</td>\n      <td>0.000174</td>\n      <td>0.000178</td>\n      <td>0.000134</td>\n    </tr>\n    <tr>\n      <th>...</th>\n      <td>...</td>\n      <td>...</td>\n      <td>...</td>\n      <td>...</td>\n      <td>...</td>\n      <td>...</td>\n      <td>...</td>\n      <td>...</td>\n      <td>...</td>\n      <td>...</td>\n      <td>...</td>\n      <td>...</td>\n      <td>...</td>\n      <td>...</td>\n      <td>...</td>\n      <td>...</td>\n      <td>...</td>\n      <td>...</td>\n      <td>...</td>\n      <td>...</td>\n      <td>...</td>\n    </tr>\n    <tr>\n      <th>daily_return_900952</th>\n      <td>0.000092</td>\n      <td>0.000084</td>\n      <td>0.000087</td>\n      <td>0.000098</td>\n      <td>0.000109</td>\n      <td>0.000045</td>\n      <td>0.000097</td>\n      <td>0.000124</td>\n      <td>0.000095</td>\n      <td>0.000106</td>\n      <td>...</td>\n      <td>0.000105</td>\n      <td>0.000093</td>\n      <td>0.000117</td>\n      <td>0.000127</td>\n      <td>0.000108</td>\n      <td>0.000238</td>\n      <td>0.000133</td>\n      <td>0.000131</td>\n      <td>0.000140</td>\n      <td>0.000139</td>\n    </tr>\n    <tr>\n      <th>daily_return_900953</th>\n      <td>0.000112</td>\n      <td>0.000111</td>\n      <td>0.000121</td>\n      <td>0.000121</td>\n      <td>0.000144</td>\n      <td>0.000072</td>\n      <td>0.000134</td>\n      <td>0.000207</td>\n      <td>0.000105</td>\n      <td>0.000143</td>\n      <td>...</td>\n      <td>0.000122</td>\n      <td>0.000141</td>\n      <td>0.000141</td>\n      <td>0.000176</td>\n      <td>0.000214</td>\n      <td>0.000133</td>\n      <td>0.000567</td>\n      <td>0.000166</td>\n      <td>0.000241</td>\n      <td>0.000356</td>\n    </tr>\n    <tr>\n      <th>daily_return_900955</th>\n      <td>0.000100</td>\n      <td>0.000119</td>\n      <td>0.000131</td>\n      <td>0.000152</td>\n      <td>0.000174</td>\n      <td>0.000135</td>\n      <td>0.000140</td>\n      <td>0.000100</td>\n      <td>0.000111</td>\n      <td>0.000193</td>\n      <td>...</td>\n      <td>0.000255</td>\n      <td>0.000140</td>\n      <td>0.000124</td>\n      <td>0.000112</td>\n      <td>0.000127</td>\n      <td>0.000131</td>\n      <td>0.000166</td>\n      <td>0.001397</td>\n      <td>0.000211</td>\n      <td>0.000122</td>\n    </tr>\n    <tr>\n      <th>daily_return_900956</th>\n      <td>0.000110</td>\n      <td>0.000087</td>\n      <td>0.000158</td>\n      <td>0.000153</td>\n      <td>0.000178</td>\n      <td>0.000095</td>\n      <td>0.000140</td>\n      <td>0.000208</td>\n      <td>0.000125</td>\n      <td>0.000210</td>\n      <td>...</td>\n      <td>0.000160</td>\n      <td>0.000140</td>\n      <td>0.000130</td>\n      <td>0.000126</td>\n      <td>0.000029</td>\n      <td>0.000140</td>\n      <td>0.000241</td>\n      <td>0.000211</td>\n      <td>0.000514</td>\n      <td>0.000267</td>\n    </tr>\n    <tr>\n      <th>daily_return_900957</th>\n      <td>0.000110</td>\n      <td>0.000098</td>\n      <td>0.000119</td>\n      <td>0.000115</td>\n      <td>0.000134</td>\n      <td>0.000069</td>\n      <td>0.000121</td>\n      <td>0.000199</td>\n      <td>0.000118</td>\n      <td>0.000136</td>\n      <td>...</td>\n      <td>0.000119</td>\n      <td>0.000132</td>\n      <td>0.000142</td>\n      <td>0.000166</td>\n      <td>0.000199</td>\n      <td>0.000139</td>\n      <td>0.000356</td>\n      <td>0.000122</td>\n      <td>0.000267</td>\n      <td>0.000427</td>\n    </tr>\n  </tbody>\n</table>\n<p>5536 rows × 5536 columns</p>\n</div>"
     },
     "execution_count": 84,
     "metadata": {},
     "output_type": "execute_result"
    }
   ],
   "source": [
    "cov_matrix"
   ],
   "metadata": {
    "collapsed": false
   }
  },
  {
   "cell_type": "code",
   "execution_count": 87,
   "outputs": [],
   "source": [
    "mean_vector = df_cov.mean()"
   ],
   "metadata": {
    "collapsed": false
   }
  },
  {
   "cell_type": "code",
   "execution_count": null,
   "outputs": [],
   "source": [
    "rf = 0.03/365"
   ],
   "metadata": {
    "collapsed": false
   }
  }
 ],
 "metadata": {
  "kernelspec": {
   "display_name": "Python 3",
   "language": "python",
   "name": "python3"
  },
  "language_info": {
   "codemirror_mode": {
    "name": "ipython",
    "version": 2
   },
   "file_extension": ".py",
   "mimetype": "text/x-python",
   "name": "python",
   "nbconvert_exporter": "python",
   "pygments_lexer": "ipython2",
   "version": "2.7.6"
  }
 },
 "nbformat": 4,
 "nbformat_minor": 0
}
