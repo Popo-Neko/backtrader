{
 "cells": [
  {
   "cell_type": "code",
   "execution_count": 1,
   "metadata": {
    "collapsed": true
   },
   "outputs": [
    {
     "data": {
      "text/plain": "'E:\\\\backtrader\\\\scripts'"
     },
     "execution_count": 1,
     "metadata": {},
     "output_type": "execute_result"
    }
   ],
   "source": [
    "import os\n",
    "import pandas as pd\n",
    "cwd = os.getcwd()\n",
    "cwd"
   ]
  },
  {
   "cell_type": "code",
   "execution_count": 5,
   "outputs": [
    {
     "data": {
      "text/plain": "          Stkcd   Trdwnt  Wclsprc  Ndaytrd    Wretwd    Wretnd\n0             1  1991-14   48.280        4       NaN       NaN\n1             1  1991-15   46.840        5 -0.029826 -0.029826\n2             1  1991-16   45.460        5 -0.029462 -0.029462\n3             1  1991-17   44.340        4 -0.024637 -0.024637\n4             1  1991-18   43.020        5 -0.029770  0.365088\n...         ...      ...      ...      ...       ...       ...\n3190023  900957  2023-38    0.379        5 -0.013021 -0.013021\n3190024  900957  2023-39    0.401        4  0.058047  0.058047\n3190025  900957  2023-41    0.387        5 -0.034915 -0.034913\n3190026  900957  2023-42    0.354        5 -0.085270 -0.085271\n3190027  900957  2023-43    0.370        5  0.045194  0.045198\n\n[3190028 rows x 6 columns]",
      "text/html": "<div>\n<style scoped>\n    .dataframe tbody tr th:only-of-type {\n        vertical-align: middle;\n    }\n\n    .dataframe tbody tr th {\n        vertical-align: top;\n    }\n\n    .dataframe thead th {\n        text-align: right;\n    }\n</style>\n<table border=\"1\" class=\"dataframe\">\n  <thead>\n    <tr style=\"text-align: right;\">\n      <th></th>\n      <th>Stkcd</th>\n      <th>Trdwnt</th>\n      <th>Wclsprc</th>\n      <th>Ndaytrd</th>\n      <th>Wretwd</th>\n      <th>Wretnd</th>\n    </tr>\n  </thead>\n  <tbody>\n    <tr>\n      <th>0</th>\n      <td>1</td>\n      <td>1991-14</td>\n      <td>48.280</td>\n      <td>4</td>\n      <td>NaN</td>\n      <td>NaN</td>\n    </tr>\n    <tr>\n      <th>1</th>\n      <td>1</td>\n      <td>1991-15</td>\n      <td>46.840</td>\n      <td>5</td>\n      <td>-0.029826</td>\n      <td>-0.029826</td>\n    </tr>\n    <tr>\n      <th>2</th>\n      <td>1</td>\n      <td>1991-16</td>\n      <td>45.460</td>\n      <td>5</td>\n      <td>-0.029462</td>\n      <td>-0.029462</td>\n    </tr>\n    <tr>\n      <th>3</th>\n      <td>1</td>\n      <td>1991-17</td>\n      <td>44.340</td>\n      <td>4</td>\n      <td>-0.024637</td>\n      <td>-0.024637</td>\n    </tr>\n    <tr>\n      <th>4</th>\n      <td>1</td>\n      <td>1991-18</td>\n      <td>43.020</td>\n      <td>5</td>\n      <td>-0.029770</td>\n      <td>0.365088</td>\n    </tr>\n    <tr>\n      <th>...</th>\n      <td>...</td>\n      <td>...</td>\n      <td>...</td>\n      <td>...</td>\n      <td>...</td>\n      <td>...</td>\n    </tr>\n    <tr>\n      <th>3190023</th>\n      <td>900957</td>\n      <td>2023-38</td>\n      <td>0.379</td>\n      <td>5</td>\n      <td>-0.013021</td>\n      <td>-0.013021</td>\n    </tr>\n    <tr>\n      <th>3190024</th>\n      <td>900957</td>\n      <td>2023-39</td>\n      <td>0.401</td>\n      <td>4</td>\n      <td>0.058047</td>\n      <td>0.058047</td>\n    </tr>\n    <tr>\n      <th>3190025</th>\n      <td>900957</td>\n      <td>2023-41</td>\n      <td>0.387</td>\n      <td>5</td>\n      <td>-0.034915</td>\n      <td>-0.034913</td>\n    </tr>\n    <tr>\n      <th>3190026</th>\n      <td>900957</td>\n      <td>2023-42</td>\n      <td>0.354</td>\n      <td>5</td>\n      <td>-0.085270</td>\n      <td>-0.085271</td>\n    </tr>\n    <tr>\n      <th>3190027</th>\n      <td>900957</td>\n      <td>2023-43</td>\n      <td>0.370</td>\n      <td>5</td>\n      <td>0.045194</td>\n      <td>0.045198</td>\n    </tr>\n  </tbody>\n</table>\n<p>3190028 rows × 6 columns</p>\n</div>"
     },
     "execution_count": 5,
     "metadata": {},
     "output_type": "execute_result"
    }
   ],
   "source": [
    "data_path = r\"E:\\backtrader\\CSMAR\\周个股回报率文件\\周个股回报率文件\\weekly_return.csv\"\n",
    "df = pd.read_csv(data_path,encoding='utf-8')\n",
    "df"
   ],
   "metadata": {
    "collapsed": false
   }
  },
  {
   "cell_type": "code",
   "execution_count": null,
   "outputs": [],
   "source": [],
   "metadata": {
    "collapsed": false
   }
  }
 ],
 "metadata": {
  "kernelspec": {
   "display_name": "Python 3",
   "language": "python",
   "name": "python3"
  },
  "language_info": {
   "codemirror_mode": {
    "name": "ipython",
    "version": 2
   },
   "file_extension": ".py",
   "mimetype": "text/x-python",
   "name": "python",
   "nbconvert_exporter": "python",
   "pygments_lexer": "ipython2",
   "version": "2.7.6"
  }
 },
 "nbformat": 4,
 "nbformat_minor": 0
}
