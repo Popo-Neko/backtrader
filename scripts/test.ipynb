{
 "cells": [
  {
   "cell_type": "code",
   "execution_count": 1,
   "metadata": {
    "collapsed": true
   },
   "outputs": [
    {
     "data": {
      "text/plain": "'E:\\\\backtrader\\\\scripts'"
     },
     "execution_count": 1,
     "metadata": {},
     "output_type": "execute_result"
    }
   ],
   "source": [
    "import pandas as pd\n",
    "import os\n",
    "import tqdm\n",
    "import cvxpy as cv\n",
    "import numpy as np\n",
    "cwd = os.getcwd()\n",
    "cwd"
   ]
  },
  {
   "cell_type": "code",
   "execution_count": 2,
   "outputs": [],
   "source": [
    "data_path = r\"E:\\backtrader\\CSMAR\\日个股回报率文件\\日个股回报率文件\\daily_return.csv\""
   ],
   "metadata": {
    "collapsed": false
   }
  },
  {
   "cell_type": "code",
   "execution_count": 22,
   "outputs": [
    {
     "data": {
      "text/plain": "             id       date  daily_return_divident  daily_return  \\\n0        000001 2018-11-01              -0.007333     -0.007333   \n1        000001 2018-11-02               0.024007      0.024007   \n2        000001 2018-11-05              -0.015329     -0.015329   \n3        000001 2018-11-06              -0.007326     -0.007326   \n4        000001 2018-11-07              -0.002768     -0.002768   \n...         ...        ...                    ...           ...   \n5366784  900957 2023-10-25               0.017143      0.017143   \n5366785  900957 2023-10-26               0.022472      0.022472   \n5366786  900957 2023-10-27               0.016484      0.016484   \n5366787  900957 2023-10-30               0.062162      0.062162   \n5366788  900957 2023-10-31               0.015267      0.015267   \n\n         pre_close_price  \n0                 10.910  \n1                 10.830  \n2                 11.090  \n3                 10.920  \n4                 10.840  \n...                  ...  \n5366784            0.350  \n5366785            0.356  \n5366786            0.364  \n5366787            0.370  \n5366788            0.393  \n\n[5366789 rows x 5 columns]",
      "text/html": "<div>\n<style scoped>\n    .dataframe tbody tr th:only-of-type {\n        vertical-align: middle;\n    }\n\n    .dataframe tbody tr th {\n        vertical-align: top;\n    }\n\n    .dataframe thead th {\n        text-align: right;\n    }\n</style>\n<table border=\"1\" class=\"dataframe\">\n  <thead>\n    <tr style=\"text-align: right;\">\n      <th></th>\n      <th>id</th>\n      <th>date</th>\n      <th>daily_return_divident</th>\n      <th>daily_return</th>\n      <th>pre_close_price</th>\n    </tr>\n  </thead>\n  <tbody>\n    <tr>\n      <th>0</th>\n      <td>000001</td>\n      <td>2018-11-01</td>\n      <td>-0.007333</td>\n      <td>-0.007333</td>\n      <td>10.910</td>\n    </tr>\n    <tr>\n      <th>1</th>\n      <td>000001</td>\n      <td>2018-11-02</td>\n      <td>0.024007</td>\n      <td>0.024007</td>\n      <td>10.830</td>\n    </tr>\n    <tr>\n      <th>2</th>\n      <td>000001</td>\n      <td>2018-11-05</td>\n      <td>-0.015329</td>\n      <td>-0.015329</td>\n      <td>11.090</td>\n    </tr>\n    <tr>\n      <th>3</th>\n      <td>000001</td>\n      <td>2018-11-06</td>\n      <td>-0.007326</td>\n      <td>-0.007326</td>\n      <td>10.920</td>\n    </tr>\n    <tr>\n      <th>4</th>\n      <td>000001</td>\n      <td>2018-11-07</td>\n      <td>-0.002768</td>\n      <td>-0.002768</td>\n      <td>10.840</td>\n    </tr>\n    <tr>\n      <th>...</th>\n      <td>...</td>\n      <td>...</td>\n      <td>...</td>\n      <td>...</td>\n      <td>...</td>\n    </tr>\n    <tr>\n      <th>5366784</th>\n      <td>900957</td>\n      <td>2023-10-25</td>\n      <td>0.017143</td>\n      <td>0.017143</td>\n      <td>0.350</td>\n    </tr>\n    <tr>\n      <th>5366785</th>\n      <td>900957</td>\n      <td>2023-10-26</td>\n      <td>0.022472</td>\n      <td>0.022472</td>\n      <td>0.356</td>\n    </tr>\n    <tr>\n      <th>5366786</th>\n      <td>900957</td>\n      <td>2023-10-27</td>\n      <td>0.016484</td>\n      <td>0.016484</td>\n      <td>0.364</td>\n    </tr>\n    <tr>\n      <th>5366787</th>\n      <td>900957</td>\n      <td>2023-10-30</td>\n      <td>0.062162</td>\n      <td>0.062162</td>\n      <td>0.370</td>\n    </tr>\n    <tr>\n      <th>5366788</th>\n      <td>900957</td>\n      <td>2023-10-31</td>\n      <td>0.015267</td>\n      <td>0.015267</td>\n      <td>0.393</td>\n    </tr>\n  </tbody>\n</table>\n<p>5366789 rows × 5 columns</p>\n</div>"
     },
     "execution_count": 22,
     "metadata": {},
     "output_type": "execute_result"
    }
   ],
   "source": [
    "def clean(path, data_type='panel'):\n",
    "    assert type in ['panel', 'ts'], 'type must be panel or ts'\n",
    "    df = pd.read_csv(data_path)\n",
    "    df.dropna(inplace=True)\n",
    "    df['date'] = pd.to_datetime(df['date'])\n",
    "    df['id'] = df['id'].astype('str').str.zfill(6)\n",
    "    if type == 'panel':\n",
    "        return df\n",
    "    else:\n",
    "        df = df.pivot(index='date', columns='id', values='daily_return')\n",
    "        return df\n",
    "\n",
    "df = clean(data_path, 'panel')\n",
    "df"
   ],
   "metadata": {
    "collapsed": false
   }
  },
  {
   "cell_type": "code",
   "execution_count": 26,
   "outputs": [
    {
     "data": {
      "text/plain": "id            000001    000002    000005    000006    000008    000009  \\\ndate                                                                     \n2022-11-17 -0.010998 -0.003153  0.011236  0.004831 -0.004098 -0.012121   \n2022-11-18 -0.008554 -0.010120 -0.011111 -0.004808 -0.012346  0.035276   \n2022-11-21 -0.011217 -0.005112  0.022472 -0.009662  0.000000  0.000741   \n2022-11-22  0.031414  0.001927  0.005495 -0.004878  0.000000 -0.006662   \n2022-11-23  0.000000 -0.007051 -0.027322  0.019608  0.016667 -0.009687   \n...              ...       ...       ...       ...       ...       ...   \n2023-10-25 -0.016114  0.003431  0.014184  0.014052  0.017241  0.000000   \n2023-10-26  0.002890 -0.011111 -0.020979 -0.011547 -0.004237 -0.002988   \n2023-10-27  0.003842  0.005186  0.014286  0.009346  0.004255  0.024975   \n2023-10-30  0.000000 -0.002580 -0.007042  0.000000  0.000000  0.010721   \n2023-10-31  0.000957 -0.023276  0.007092  0.000000  0.000000 -0.003857   \n\nid            000010    000011    000012    000014  ...    900941    900942  \\\ndate                                                ...                       \n2022-11-17  0.003077  0.010711 -0.020464  0.002215  ...  0.007212  0.005376   \n2022-11-18 -0.009202  0.001927 -0.005571  0.008840  ...  0.007160 -0.006684   \n2022-11-21 -0.009288 -0.015385 -0.001401 -0.009858  ... -0.016588 -0.012113   \n2022-11-22  0.012500  0.003906 -0.012623 -0.004425  ...  0.031325 -0.002725   \n2022-11-23 -0.009259 -0.010700  0.007102  0.016667  ... -0.023364  0.000000   \n...              ...       ...       ...       ...  ...       ...       ...   \n2023-10-25  0.012690  0.007543  0.017408 -0.002660  ...  0.034759  0.002894   \n2023-10-26  0.017544 -0.003209  0.001901 -0.010667  ...  0.002584  0.007215   \n2023-10-27 -0.032020  0.006438  0.015180  0.010782  ... -0.002577  0.018625   \n2023-10-30  0.000000 -0.039446  0.001869  0.008000  ...  0.012920  0.000000   \n2023-10-31  0.043257 -0.004440  0.009328 -0.014991  ... -0.005102 -0.011252   \n\nid            900943    900945    900946    900947    900948    900952  \\\ndate                                                                     \n2022-11-17  0.053691 -0.008299 -0.009050  0.004049 -0.020901  0.003717   \n2022-11-18 -0.066242 -0.016736 -0.004566  0.004032 -0.021348 -0.007407   \n2022-11-21 -0.009550 -0.029787 -0.009174 -0.004016  0.005453 -0.011194   \n2022-11-22 -0.089532 -0.008772  0.000000  0.008065  0.013559  0.011321   \n2022-11-23 -0.048411 -0.004425  0.101852  0.012000  0.009365 -0.007463   \n...              ...       ...       ...       ...       ...       ...   \n2023-10-25 -0.002188  0.000000  0.006135  0.005025  0.017126  0.020619   \n2023-10-26 -0.028509  0.005650 -0.006098  0.000000 -0.008785 -0.005051   \n2023-10-27  0.011287  0.022472  0.018405  0.020000  0.005908  0.005076   \n2023-10-30  0.022321  0.000000  0.018072  0.000000 -0.001468 -0.005051   \n2023-10-31  0.000000  0.000000  0.000000 -0.009804  0.008824 -0.035533   \n\nid            900953    900957  \ndate                            \n2022-11-17 -0.027778 -0.014682  \n2022-11-18  0.032967  0.008278  \n2022-11-21 -0.008511  0.003284  \n2022-11-22 -0.012876 -0.006547  \n2022-11-23 -0.010870 -0.001647  \n...              ...       ...  \n2023-10-25  0.003289  0.017143  \n2023-10-26  0.013115  0.022472  \n2023-10-27  0.016181  0.016484  \n2023-10-30  0.038217  0.062162  \n2023-10-31  0.000000  0.015267  \n\n[231 rows x 4782 columns]",
      "text/html": "<div>\n<style scoped>\n    .dataframe tbody tr th:only-of-type {\n        vertical-align: middle;\n    }\n\n    .dataframe tbody tr th {\n        vertical-align: top;\n    }\n\n    .dataframe thead th {\n        text-align: right;\n    }\n</style>\n<table border=\"1\" class=\"dataframe\">\n  <thead>\n    <tr style=\"text-align: right;\">\n      <th>id</th>\n      <th>000001</th>\n      <th>000002</th>\n      <th>000005</th>\n      <th>000006</th>\n      <th>000008</th>\n      <th>000009</th>\n      <th>000010</th>\n      <th>000011</th>\n      <th>000012</th>\n      <th>000014</th>\n      <th>...</th>\n      <th>900941</th>\n      <th>900942</th>\n      <th>900943</th>\n      <th>900945</th>\n      <th>900946</th>\n      <th>900947</th>\n      <th>900948</th>\n      <th>900952</th>\n      <th>900953</th>\n      <th>900957</th>\n    </tr>\n    <tr>\n      <th>date</th>\n      <th></th>\n      <th></th>\n      <th></th>\n      <th></th>\n      <th></th>\n      <th></th>\n      <th></th>\n      <th></th>\n      <th></th>\n      <th></th>\n      <th></th>\n      <th></th>\n      <th></th>\n      <th></th>\n      <th></th>\n      <th></th>\n      <th></th>\n      <th></th>\n      <th></th>\n      <th></th>\n      <th></th>\n    </tr>\n  </thead>\n  <tbody>\n    <tr>\n      <th>2022-11-17</th>\n      <td>-0.010998</td>\n      <td>-0.003153</td>\n      <td>0.011236</td>\n      <td>0.004831</td>\n      <td>-0.004098</td>\n      <td>-0.012121</td>\n      <td>0.003077</td>\n      <td>0.010711</td>\n      <td>-0.020464</td>\n      <td>0.002215</td>\n      <td>...</td>\n      <td>0.007212</td>\n      <td>0.005376</td>\n      <td>0.053691</td>\n      <td>-0.008299</td>\n      <td>-0.009050</td>\n      <td>0.004049</td>\n      <td>-0.020901</td>\n      <td>0.003717</td>\n      <td>-0.027778</td>\n      <td>-0.014682</td>\n    </tr>\n    <tr>\n      <th>2022-11-18</th>\n      <td>-0.008554</td>\n      <td>-0.010120</td>\n      <td>-0.011111</td>\n      <td>-0.004808</td>\n      <td>-0.012346</td>\n      <td>0.035276</td>\n      <td>-0.009202</td>\n      <td>0.001927</td>\n      <td>-0.005571</td>\n      <td>0.008840</td>\n      <td>...</td>\n      <td>0.007160</td>\n      <td>-0.006684</td>\n      <td>-0.066242</td>\n      <td>-0.016736</td>\n      <td>-0.004566</td>\n      <td>0.004032</td>\n      <td>-0.021348</td>\n      <td>-0.007407</td>\n      <td>0.032967</td>\n      <td>0.008278</td>\n    </tr>\n    <tr>\n      <th>2022-11-21</th>\n      <td>-0.011217</td>\n      <td>-0.005112</td>\n      <td>0.022472</td>\n      <td>-0.009662</td>\n      <td>0.000000</td>\n      <td>0.000741</td>\n      <td>-0.009288</td>\n      <td>-0.015385</td>\n      <td>-0.001401</td>\n      <td>-0.009858</td>\n      <td>...</td>\n      <td>-0.016588</td>\n      <td>-0.012113</td>\n      <td>-0.009550</td>\n      <td>-0.029787</td>\n      <td>-0.009174</td>\n      <td>-0.004016</td>\n      <td>0.005453</td>\n      <td>-0.011194</td>\n      <td>-0.008511</td>\n      <td>0.003284</td>\n    </tr>\n    <tr>\n      <th>2022-11-22</th>\n      <td>0.031414</td>\n      <td>0.001927</td>\n      <td>0.005495</td>\n      <td>-0.004878</td>\n      <td>0.000000</td>\n      <td>-0.006662</td>\n      <td>0.012500</td>\n      <td>0.003906</td>\n      <td>-0.012623</td>\n      <td>-0.004425</td>\n      <td>...</td>\n      <td>0.031325</td>\n      <td>-0.002725</td>\n      <td>-0.089532</td>\n      <td>-0.008772</td>\n      <td>0.000000</td>\n      <td>0.008065</td>\n      <td>0.013559</td>\n      <td>0.011321</td>\n      <td>-0.012876</td>\n      <td>-0.006547</td>\n    </tr>\n    <tr>\n      <th>2022-11-23</th>\n      <td>0.000000</td>\n      <td>-0.007051</td>\n      <td>-0.027322</td>\n      <td>0.019608</td>\n      <td>0.016667</td>\n      <td>-0.009687</td>\n      <td>-0.009259</td>\n      <td>-0.010700</td>\n      <td>0.007102</td>\n      <td>0.016667</td>\n      <td>...</td>\n      <td>-0.023364</td>\n      <td>0.000000</td>\n      <td>-0.048411</td>\n      <td>-0.004425</td>\n      <td>0.101852</td>\n      <td>0.012000</td>\n      <td>0.009365</td>\n      <td>-0.007463</td>\n      <td>-0.010870</td>\n      <td>-0.001647</td>\n    </tr>\n    <tr>\n      <th>...</th>\n      <td>...</td>\n      <td>...</td>\n      <td>...</td>\n      <td>...</td>\n      <td>...</td>\n      <td>...</td>\n      <td>...</td>\n      <td>...</td>\n      <td>...</td>\n      <td>...</td>\n      <td>...</td>\n      <td>...</td>\n      <td>...</td>\n      <td>...</td>\n      <td>...</td>\n      <td>...</td>\n      <td>...</td>\n      <td>...</td>\n      <td>...</td>\n      <td>...</td>\n      <td>...</td>\n    </tr>\n    <tr>\n      <th>2023-10-25</th>\n      <td>-0.016114</td>\n      <td>0.003431</td>\n      <td>0.014184</td>\n      <td>0.014052</td>\n      <td>0.017241</td>\n      <td>0.000000</td>\n      <td>0.012690</td>\n      <td>0.007543</td>\n      <td>0.017408</td>\n      <td>-0.002660</td>\n      <td>...</td>\n      <td>0.034759</td>\n      <td>0.002894</td>\n      <td>-0.002188</td>\n      <td>0.000000</td>\n      <td>0.006135</td>\n      <td>0.005025</td>\n      <td>0.017126</td>\n      <td>0.020619</td>\n      <td>0.003289</td>\n      <td>0.017143</td>\n    </tr>\n    <tr>\n      <th>2023-10-26</th>\n      <td>0.002890</td>\n      <td>-0.011111</td>\n      <td>-0.020979</td>\n      <td>-0.011547</td>\n      <td>-0.004237</td>\n      <td>-0.002988</td>\n      <td>0.017544</td>\n      <td>-0.003209</td>\n      <td>0.001901</td>\n      <td>-0.010667</td>\n      <td>...</td>\n      <td>0.002584</td>\n      <td>0.007215</td>\n      <td>-0.028509</td>\n      <td>0.005650</td>\n      <td>-0.006098</td>\n      <td>0.000000</td>\n      <td>-0.008785</td>\n      <td>-0.005051</td>\n      <td>0.013115</td>\n      <td>0.022472</td>\n    </tr>\n    <tr>\n      <th>2023-10-27</th>\n      <td>0.003842</td>\n      <td>0.005186</td>\n      <td>0.014286</td>\n      <td>0.009346</td>\n      <td>0.004255</td>\n      <td>0.024975</td>\n      <td>-0.032020</td>\n      <td>0.006438</td>\n      <td>0.015180</td>\n      <td>0.010782</td>\n      <td>...</td>\n      <td>-0.002577</td>\n      <td>0.018625</td>\n      <td>0.011287</td>\n      <td>0.022472</td>\n      <td>0.018405</td>\n      <td>0.020000</td>\n      <td>0.005908</td>\n      <td>0.005076</td>\n      <td>0.016181</td>\n      <td>0.016484</td>\n    </tr>\n    <tr>\n      <th>2023-10-30</th>\n      <td>0.000000</td>\n      <td>-0.002580</td>\n      <td>-0.007042</td>\n      <td>0.000000</td>\n      <td>0.000000</td>\n      <td>0.010721</td>\n      <td>0.000000</td>\n      <td>-0.039446</td>\n      <td>0.001869</td>\n      <td>0.008000</td>\n      <td>...</td>\n      <td>0.012920</td>\n      <td>0.000000</td>\n      <td>0.022321</td>\n      <td>0.000000</td>\n      <td>0.018072</td>\n      <td>0.000000</td>\n      <td>-0.001468</td>\n      <td>-0.005051</td>\n      <td>0.038217</td>\n      <td>0.062162</td>\n    </tr>\n    <tr>\n      <th>2023-10-31</th>\n      <td>0.000957</td>\n      <td>-0.023276</td>\n      <td>0.007092</td>\n      <td>0.000000</td>\n      <td>0.000000</td>\n      <td>-0.003857</td>\n      <td>0.043257</td>\n      <td>-0.004440</td>\n      <td>0.009328</td>\n      <td>-0.014991</td>\n      <td>...</td>\n      <td>-0.005102</td>\n      <td>-0.011252</td>\n      <td>0.000000</td>\n      <td>0.000000</td>\n      <td>0.000000</td>\n      <td>-0.009804</td>\n      <td>0.008824</td>\n      <td>-0.035533</td>\n      <td>0.000000</td>\n      <td>0.015267</td>\n    </tr>\n  </tbody>\n</table>\n<p>231 rows × 4782 columns</p>\n</div>"
     },
     "execution_count": 26,
     "metadata": {},
     "output_type": "execute_result"
    }
   ],
   "source": [
    "df = clean(data_path, 'ts')\n",
    "# fetch the date period from 2022-11-17 to the latest date\n",
    "df_sample = df[df.index >= '2022-11-17'].dropna(axis=1)\n",
    "df_sample"
   ],
   "metadata": {
    "collapsed": false
   }
  },
  {
   "cell_type": "code",
   "execution_count": 31,
   "outputs": [],
   "source": [
    "cov_matrix = df_sample.cov().values\n",
    "mu = df_sample.mean().values\n",
    "expected_return_of_portfolio = 0.0005\n",
    "rf = 0.035/365"
   ],
   "metadata": {
    "collapsed": false
   }
  },
  {
   "cell_type": "code",
   "execution_count": 30,
   "outputs": [
    {
     "data": {
      "text/plain": "array([], dtype=float64)"
     },
     "execution_count": 30,
     "metadata": {},
     "output_type": "execute_result"
    }
   ],
   "source": [
    "cov_matrix\n",
    "# check if the matrix is symmetric\n",
    "def symmetric_check(matrix):\n",
    "    return matrix[np.where(np.isclose(matrix, matrix.T, atol=1e-8) == False)]"
   ],
   "metadata": {
    "collapsed": false
   }
  },
  {
   "cell_type": "code",
   "execution_count": 35,
   "outputs": [
    {
     "name": "stdout",
     "output_type": "stream",
     "text": [
      "最优权重: [-9.97690295e-09 -1.69864057e-08  3.55224491e-08 ...  2.49730840e-08\n",
      " -5.39012160e-08 -7.88673078e-08]\n",
      "最小方差: 9.79388321138593e-06\n"
     ]
    }
   ],
   "source": [
    "# 定义变量\n",
    "weights = cv.Variable(len(mu))\n",
    "#\n",
    "# 定义目标函数\n",
    "objective = cv.Minimize(cv.quad_form(weights, cov_matrix, assume_PSD=True))\n",
    "\n",
    "# 定义约束条件\n",
    "constraints = [\n",
    "    cv.sum(weights) == 1,  # 权重之和为1\n",
    "    weights.T @ mu == expected_return_of_portfolio,  # 期望收益率为给定值\n",
    "    weights >= 0,  # 权重大于等于0\n",
    "]\n",
    "\n",
    "# 创建问题并求解\n",
    "problem = cv.Problem(objective, constraints)\n",
    "problem.solve()\n",
    "\n",
    "# 输出结果\n",
    "print(\"最优权重:\", weights.value)\n",
    "print(\"最小方差:\", problem.value)\n"
   ],
   "metadata": {
    "collapsed": false
   }
  },
  {
   "cell_type": "code",
   "execution_count": 37,
   "outputs": [
    {
     "data": {
      "text/plain": "array([0.00111924, 0.00872369, 0.00277365, 0.0035054 , 0.00699962,\n       0.00206251, 0.01268154, 0.02834071, 0.00221352, 0.01479044,\n       0.00160027, 0.00312037, 0.00642464, 0.00484507, 0.01200458,\n       0.00358681, 0.01103271, 0.00326854, 0.00658707, 0.00538134,\n       0.01392531, 0.0146464 , 0.03534426, 0.01603583, 0.01461601,\n       0.02410976, 0.02391691, 0.01195348, 0.01334307, 0.00562642,\n       0.01620639, 0.00126995, 0.01194302, 0.01971942, 0.00695478,\n       0.00316571, 0.00943303, 0.00299895, 0.00791339, 0.0060739 ,\n       0.00498692, 0.00019078, 0.01830271, 0.00139415, 0.00124439,\n       0.01318722, 0.00044244, 0.00376824, 0.00399697, 0.00074333,\n       0.00415893, 0.01112944, 0.01346342, 0.00724324, 0.00482032,\n       0.00463368, 0.00176406, 0.0109019 , 0.01334814, 0.01178146,\n       0.01173111, 0.00056431, 0.00391974, 0.00254013, 0.00341808,\n       0.00169179, 0.0115474 , 0.01013958, 0.00606674, 0.00331527,\n       0.01948182, 0.01190019, 0.0001428 , 0.00689566, 0.00043095,\n       0.00166369, 0.0246092 , 0.02490125, 0.00780219, 0.0028512 ,\n       0.00884957, 0.00352448, 0.00900849, 0.00426255, 0.01188083,\n       0.00222872, 0.0061346 , 0.01748189, 0.00198068, 0.00746444,\n       0.00976814, 0.00706333, 0.00207199, 0.00142289, 0.00469111,\n       0.00170023, 0.02001898, 0.00737144, 0.00017175, 0.00264457,\n       0.00370357, 0.01077972, 0.00219588, 0.00623838, 0.00824088,\n       0.00539532, 0.00502962, 0.00557642, 0.00514914, 0.00012446,\n       0.0001061 , 0.00028049, 0.00280726, 0.00206834, 0.00237678,\n       0.01084783, 0.0008608 , 0.0042946 , 0.00515474, 0.01259081,\n       0.00068048, 0.0038833 , 0.00848499, 0.01160821, 0.01029004,\n       0.01312243, 0.00712499, 0.00397783, 0.00919205, 0.00060315,\n       0.01415447, 0.00082781, 0.00494643])"
     },
     "execution_count": 37,
     "metadata": {},
     "output_type": "execute_result"
    }
   ],
   "source": [
    "threshold = 0.0001\n",
    "weights.value[np.abs(weights.value) < threshold] = 0\n",
    "weights.value[weights.value > 0]"
   ],
   "metadata": {
    "collapsed": false
   }
  },
  {
   "cell_type": "code",
   "execution_count": 40,
   "outputs": [
    {
     "name": "stdout",
     "output_type": "stream",
     "text": [
      "组合收益率: 0.0005000376528627148\n",
      "组合风险: 0.0031295180477808287\n",
      "夏普比率: 0.12914040939639104\n"
     ]
    }
   ],
   "source": [
    "portfolio_return = weights.value @ mu\n",
    "portfolio_risk = problem.value ** 0.5\n",
    "# 输出组合收益率，组合风险和夏普比率\n",
    "print(\"组合收益率:\", portfolio_return)\n",
    "print(\"组合风险:\", portfolio_risk)\n",
    "print(\"夏普比率:\", (portfolio_return - rf) / portfolio_risk)"
   ],
   "metadata": {
    "collapsed": false
   }
  },
  {
   "cell_type": "code",
   "execution_count": null,
   "outputs": [],
   "source": [],
   "metadata": {
    "collapsed": false
   }
  }
 ],
 "metadata": {
  "kernelspec": {
   "display_name": "Python 3",
   "language": "python",
   "name": "python3"
  },
  "language_info": {
   "codemirror_mode": {
    "name": "ipython",
    "version": 2
   },
   "file_extension": ".py",
   "mimetype": "text/x-python",
   "name": "python",
   "nbconvert_exporter": "python",
   "pygments_lexer": "ipython2",
   "version": "2.7.6"
  }
 },
 "nbformat": 4,
 "nbformat_minor": 0
}
