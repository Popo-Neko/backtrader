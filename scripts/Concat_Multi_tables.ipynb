{
 "cells": [
  {
   "cell_type": "code",
   "execution_count": 1,
   "metadata": {
    "collapsed": true
   },
   "outputs": [
    {
     "data": {
      "text/plain": "'E:\\\\backtrader\\\\scripts'"
     },
     "execution_count": 1,
     "metadata": {},
     "output_type": "execute_result"
    }
   ],
   "source": [
    "import os\n",
    "import pandas as pd\n",
    "cwd = os.getcwd()\n",
    "cwd"
   ]
  },
  {
   "cell_type": "code",
   "execution_count": 2,
   "outputs": [
    {
     "data": {
      "text/plain": "['E:\\\\backtrader\\\\CSMAR\\\\周个股回报率文件\\\\周个股回报率文件\\\\TRD_Week.csv',\n 'E:\\\\backtrader\\\\CSMAR\\\\周个股回报率文件\\\\周个股回报率文件\\\\TRD_Week1.csv',\n 'E:\\\\backtrader\\\\CSMAR\\\\周个股回报率文件\\\\周个股回报率文件\\\\TRD_Week2.csv',\n 'E:\\\\backtrader\\\\CSMAR\\\\周个股回报率文件\\\\周个股回报率文件\\\\TRD_Week3.csv',\n 'E:\\\\backtrader\\\\CSMAR\\\\周个股回报率文件\\\\周个股回报率文件\\\\weekly_return.csv']"
     },
     "execution_count": 2,
     "metadata": {},
     "output_type": "execute_result"
    }
   ],
   "source": [
    "data_path = r\"\"\n",
    "file_list = []\n",
    "for root, _, filenames in os.walk(data_path):\n",
    "    for filename in filenames:\n",
    "        if filename.endswith('csv'):\n",
    "            file_list.append(os.path.join(root, filename))\n",
    "file_list"
   ],
   "metadata": {
    "collapsed": false
   }
  },
  {
   "cell_type": "code",
   "execution_count": null,
   "outputs": [],
   "source": [
    "df = pd.DataFrame()\n",
    "for file in file_list:\n",
    "    df_temp = pd.read_csv(file, encoding='utf-8', index_col=0, skiprows=[1,2])\n",
    "    df = pd.concat([df, df_temp], axis=0)\n",
    "df.to_csv(os.path.join(data_path, 'weekly_return.csv'), encoding='utf-8')"
   ],
   "metadata": {
    "collapsed": false
   }
  }
 ],
 "metadata": {
  "kernelspec": {
   "display_name": "Python 3",
   "language": "python",
   "name": "python3"
  },
  "language_info": {
   "codemirror_mode": {
    "name": "ipython",
    "version": 2
   },
   "file_extension": ".py",
   "mimetype": "text/x-python",
   "name": "python",
   "nbconvert_exporter": "python",
   "pygments_lexer": "ipython2",
   "version": "2.7.6"
  }
 },
 "nbformat": 4,
 "nbformat_minor": 0
}
