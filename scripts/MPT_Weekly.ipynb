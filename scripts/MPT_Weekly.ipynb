{
 "cells": [
  {
   "cell_type": "code",
   "execution_count": 3,
   "metadata": {
    "collapsed": true
   },
   "outputs": [
    {
     "data": {
      "text/plain": "'E:\\\\backtrader\\\\scripts'"
     },
     "execution_count": 3,
     "metadata": {},
     "output_type": "execute_result"
    }
   ],
   "source": [
    "import os\n",
    "import pandas as pd\n",
    "import os\n",
    "import numpy as np\n",
    "import cvxpy as cv\n",
    "from multiprocessing import Pool\n",
    "from functools import partial\n",
    "cwd = os.getcwd()\n",
    "cwd"
   ]
  },
  {
   "cell_type": "code",
   "execution_count": 4,
   "outputs": [
    {
     "data": {
      "text/plain": "             id     date   close  Nday  weekly_return_divident  weekly_return\n0        000001  1991-15  46.840     5               -0.029826      -0.029826\n1        000001  1991-16  45.460     5               -0.029462      -0.029462\n2        000001  1991-17  44.340     4               -0.024637      -0.024637\n3        000001  1991-18  43.020     5               -0.029770       0.365088\n4        000001  1991-19  41.750     5               -0.029521      -0.029521\n...         ...      ...     ...   ...                     ...            ...\n3184373  900957  2023-38   0.379     5               -0.013021      -0.013021\n3184374  900957  2023-39   0.401     4                0.058047       0.058047\n3184375  900957  2023-41   0.387     5               -0.034915      -0.034913\n3184376  900957  2023-42   0.354     5               -0.085270      -0.085271\n3184377  900957  2023-43   0.370     5                0.045194       0.045198\n\n[3184378 rows x 6 columns]",
      "text/html": "<div>\n<style scoped>\n    .dataframe tbody tr th:only-of-type {\n        vertical-align: middle;\n    }\n\n    .dataframe tbody tr th {\n        vertical-align: top;\n    }\n\n    .dataframe thead th {\n        text-align: right;\n    }\n</style>\n<table border=\"1\" class=\"dataframe\">\n  <thead>\n    <tr style=\"text-align: right;\">\n      <th></th>\n      <th>id</th>\n      <th>date</th>\n      <th>close</th>\n      <th>Nday</th>\n      <th>weekly_return_divident</th>\n      <th>weekly_return</th>\n    </tr>\n  </thead>\n  <tbody>\n    <tr>\n      <th>0</th>\n      <td>000001</td>\n      <td>1991-15</td>\n      <td>46.840</td>\n      <td>5</td>\n      <td>-0.029826</td>\n      <td>-0.029826</td>\n    </tr>\n    <tr>\n      <th>1</th>\n      <td>000001</td>\n      <td>1991-16</td>\n      <td>45.460</td>\n      <td>5</td>\n      <td>-0.029462</td>\n      <td>-0.029462</td>\n    </tr>\n    <tr>\n      <th>2</th>\n      <td>000001</td>\n      <td>1991-17</td>\n      <td>44.340</td>\n      <td>4</td>\n      <td>-0.024637</td>\n      <td>-0.024637</td>\n    </tr>\n    <tr>\n      <th>3</th>\n      <td>000001</td>\n      <td>1991-18</td>\n      <td>43.020</td>\n      <td>5</td>\n      <td>-0.029770</td>\n      <td>0.365088</td>\n    </tr>\n    <tr>\n      <th>4</th>\n      <td>000001</td>\n      <td>1991-19</td>\n      <td>41.750</td>\n      <td>5</td>\n      <td>-0.029521</td>\n      <td>-0.029521</td>\n    </tr>\n    <tr>\n      <th>...</th>\n      <td>...</td>\n      <td>...</td>\n      <td>...</td>\n      <td>...</td>\n      <td>...</td>\n      <td>...</td>\n    </tr>\n    <tr>\n      <th>3184373</th>\n      <td>900957</td>\n      <td>2023-38</td>\n      <td>0.379</td>\n      <td>5</td>\n      <td>-0.013021</td>\n      <td>-0.013021</td>\n    </tr>\n    <tr>\n      <th>3184374</th>\n      <td>900957</td>\n      <td>2023-39</td>\n      <td>0.401</td>\n      <td>4</td>\n      <td>0.058047</td>\n      <td>0.058047</td>\n    </tr>\n    <tr>\n      <th>3184375</th>\n      <td>900957</td>\n      <td>2023-41</td>\n      <td>0.387</td>\n      <td>5</td>\n      <td>-0.034915</td>\n      <td>-0.034913</td>\n    </tr>\n    <tr>\n      <th>3184376</th>\n      <td>900957</td>\n      <td>2023-42</td>\n      <td>0.354</td>\n      <td>5</td>\n      <td>-0.085270</td>\n      <td>-0.085271</td>\n    </tr>\n    <tr>\n      <th>3184377</th>\n      <td>900957</td>\n      <td>2023-43</td>\n      <td>0.370</td>\n      <td>5</td>\n      <td>0.045194</td>\n      <td>0.045198</td>\n    </tr>\n  </tbody>\n</table>\n<p>3184378 rows × 6 columns</p>\n</div>"
     },
     "execution_count": 4,
     "metadata": {},
     "output_type": "execute_result"
    }
   ],
   "source": [
    "data_path = r\"E:\\backtrader\\CSMAR\\周个股回报率文件\\周个股回报率文件\\weekly_return.csv\"\n",
    "def clean(path, data_type='panel'):\n",
    "    assert data_type in ['panel', 'ts'], 'type must be panel or ts'\n",
    "    df = pd.read_csv(path)\n",
    "    df.dropna(inplace=True)\n",
    "    df['id'] = df['id'].astype('str').str.zfill(6)\n",
    "    if data_type == 'panel':\n",
    "        return df\n",
    "    else:\n",
    "        df = df.pivot(index='date', columns='id', values='weekly_return')\n",
    "        return df\n",
    "\n",
    "df = clean(data_path, 'panel')\n",
    "df"
   ],
   "metadata": {
    "collapsed": false
   }
  },
  {
   "cell_type": "code",
   "execution_count": 5,
   "outputs": [
    {
     "data": {
      "text/plain": "id         000001    000002  000003    000004    000005    000006    000007  \\\ndate                                                                          \n1990-52       NaN       NaN     NaN       NaN       NaN       NaN       NaN   \n1990-53       NaN       NaN     NaN       NaN       NaN       NaN       NaN   \n1991-01       NaN       NaN     NaN       NaN       NaN       NaN       NaN   \n1991-02       NaN       NaN     NaN       NaN -0.032169       NaN       NaN   \n1991-03       NaN       NaN     NaN       NaN -0.023496       NaN       NaN   \n...           ...       ...     ...       ...       ...       ...       ...   \n2023-38  0.001783 -0.002235     NaN  0.083605  0.035714  0.000000  0.000000   \n2023-39 -0.003559 -0.023152     NaN -0.033755  0.000000 -0.029915 -0.021739   \n2023-41 -0.017857 -0.037462     NaN  0.119152  0.013793 -0.033040  0.004444   \n2023-42 -0.036364 -0.073868     NaN -0.100892 -0.013605 -0.031891  0.050885   \n2023-43 -0.014151 -0.002573     NaN  0.031618 -0.020690  0.016471  0.012632   \n\nid         000008    000009    000010  ...    900947    900948  900949  \\\ndate                                   ...                               \n1990-52       NaN       NaN       NaN  ...       NaN       NaN     NaN   \n1990-53       NaN       NaN       NaN  ...       NaN       NaN     NaN   \n1991-01       NaN       NaN       NaN  ...       NaN       NaN     NaN   \n1991-02       NaN       NaN       NaN  ...       NaN       NaN     NaN   \n1991-03       NaN       NaN       NaN  ...       NaN       NaN     NaN   \n...           ...       ...       ...  ...       ...       ...     ...   \n2023-38 -0.004082 -0.009643 -0.077586  ... -0.058824  0.037258     NaN   \n2023-39  0.000000  0.014606  0.099688  ...  0.033654  0.005029     NaN   \n2023-41 -0.028689  0.005758  0.056657  ... -0.032558 -0.003574     NaN   \n2023-42 -0.016878 -0.025763 -0.050938  ... -0.038462 -0.033716     NaN   \n2023-43  0.012876  0.004897  0.110169  ...  0.020000  0.011136     NaN   \n\nid       900950  900951    900952    900953  900955  900956    900957  \ndate                                                                   \n1990-52     NaN     NaN       NaN       NaN     NaN     NaN       NaN  \n1990-53     NaN     NaN       NaN       NaN     NaN     NaN       NaN  \n1991-01     NaN     NaN       NaN       NaN     NaN     NaN       NaN  \n1991-02     NaN     NaN       NaN       NaN     NaN     NaN       NaN  \n1991-03     NaN     NaN       NaN       NaN     NaN     NaN       NaN  \n...         ...     ...       ...       ...     ...     ...       ...  \n2023-38     NaN     NaN  0.009804  0.055556     NaN     NaN -0.013021  \n2023-39     NaN     NaN  0.004854  0.036011     NaN     NaN  0.058047  \n2023-41     NaN     NaN -0.004831 -0.048128     NaN     NaN -0.034913  \n2023-42     NaN     NaN -0.038835 -0.129213     NaN     NaN -0.085271  \n2023-43     NaN     NaN  0.000000  0.012903     NaN     NaN  0.045198  \n\n[1674 rows x 5647 columns]",
      "text/html": "<div>\n<style scoped>\n    .dataframe tbody tr th:only-of-type {\n        vertical-align: middle;\n    }\n\n    .dataframe tbody tr th {\n        vertical-align: top;\n    }\n\n    .dataframe thead th {\n        text-align: right;\n    }\n</style>\n<table border=\"1\" class=\"dataframe\">\n  <thead>\n    <tr style=\"text-align: right;\">\n      <th>id</th>\n      <th>000001</th>\n      <th>000002</th>\n      <th>000003</th>\n      <th>000004</th>\n      <th>000005</th>\n      <th>000006</th>\n      <th>000007</th>\n      <th>000008</th>\n      <th>000009</th>\n      <th>000010</th>\n      <th>...</th>\n      <th>900947</th>\n      <th>900948</th>\n      <th>900949</th>\n      <th>900950</th>\n      <th>900951</th>\n      <th>900952</th>\n      <th>900953</th>\n      <th>900955</th>\n      <th>900956</th>\n      <th>900957</th>\n    </tr>\n    <tr>\n      <th>date</th>\n      <th></th>\n      <th></th>\n      <th></th>\n      <th></th>\n      <th></th>\n      <th></th>\n      <th></th>\n      <th></th>\n      <th></th>\n      <th></th>\n      <th></th>\n      <th></th>\n      <th></th>\n      <th></th>\n      <th></th>\n      <th></th>\n      <th></th>\n      <th></th>\n      <th></th>\n      <th></th>\n      <th></th>\n    </tr>\n  </thead>\n  <tbody>\n    <tr>\n      <th>1990-52</th>\n      <td>NaN</td>\n      <td>NaN</td>\n      <td>NaN</td>\n      <td>NaN</td>\n      <td>NaN</td>\n      <td>NaN</td>\n      <td>NaN</td>\n      <td>NaN</td>\n      <td>NaN</td>\n      <td>NaN</td>\n      <td>...</td>\n      <td>NaN</td>\n      <td>NaN</td>\n      <td>NaN</td>\n      <td>NaN</td>\n      <td>NaN</td>\n      <td>NaN</td>\n      <td>NaN</td>\n      <td>NaN</td>\n      <td>NaN</td>\n      <td>NaN</td>\n    </tr>\n    <tr>\n      <th>1990-53</th>\n      <td>NaN</td>\n      <td>NaN</td>\n      <td>NaN</td>\n      <td>NaN</td>\n      <td>NaN</td>\n      <td>NaN</td>\n      <td>NaN</td>\n      <td>NaN</td>\n      <td>NaN</td>\n      <td>NaN</td>\n      <td>...</td>\n      <td>NaN</td>\n      <td>NaN</td>\n      <td>NaN</td>\n      <td>NaN</td>\n      <td>NaN</td>\n      <td>NaN</td>\n      <td>NaN</td>\n      <td>NaN</td>\n      <td>NaN</td>\n      <td>NaN</td>\n    </tr>\n    <tr>\n      <th>1991-01</th>\n      <td>NaN</td>\n      <td>NaN</td>\n      <td>NaN</td>\n      <td>NaN</td>\n      <td>NaN</td>\n      <td>NaN</td>\n      <td>NaN</td>\n      <td>NaN</td>\n      <td>NaN</td>\n      <td>NaN</td>\n      <td>...</td>\n      <td>NaN</td>\n      <td>NaN</td>\n      <td>NaN</td>\n      <td>NaN</td>\n      <td>NaN</td>\n      <td>NaN</td>\n      <td>NaN</td>\n      <td>NaN</td>\n      <td>NaN</td>\n      <td>NaN</td>\n    </tr>\n    <tr>\n      <th>1991-02</th>\n      <td>NaN</td>\n      <td>NaN</td>\n      <td>NaN</td>\n      <td>NaN</td>\n      <td>-0.032169</td>\n      <td>NaN</td>\n      <td>NaN</td>\n      <td>NaN</td>\n      <td>NaN</td>\n      <td>NaN</td>\n      <td>...</td>\n      <td>NaN</td>\n      <td>NaN</td>\n      <td>NaN</td>\n      <td>NaN</td>\n      <td>NaN</td>\n      <td>NaN</td>\n      <td>NaN</td>\n      <td>NaN</td>\n      <td>NaN</td>\n      <td>NaN</td>\n    </tr>\n    <tr>\n      <th>1991-03</th>\n      <td>NaN</td>\n      <td>NaN</td>\n      <td>NaN</td>\n      <td>NaN</td>\n      <td>-0.023496</td>\n      <td>NaN</td>\n      <td>NaN</td>\n      <td>NaN</td>\n      <td>NaN</td>\n      <td>NaN</td>\n      <td>...</td>\n      <td>NaN</td>\n      <td>NaN</td>\n      <td>NaN</td>\n      <td>NaN</td>\n      <td>NaN</td>\n      <td>NaN</td>\n      <td>NaN</td>\n      <td>NaN</td>\n      <td>NaN</td>\n      <td>NaN</td>\n    </tr>\n    <tr>\n      <th>...</th>\n      <td>...</td>\n      <td>...</td>\n      <td>...</td>\n      <td>...</td>\n      <td>...</td>\n      <td>...</td>\n      <td>...</td>\n      <td>...</td>\n      <td>...</td>\n      <td>...</td>\n      <td>...</td>\n      <td>...</td>\n      <td>...</td>\n      <td>...</td>\n      <td>...</td>\n      <td>...</td>\n      <td>...</td>\n      <td>...</td>\n      <td>...</td>\n      <td>...</td>\n      <td>...</td>\n    </tr>\n    <tr>\n      <th>2023-38</th>\n      <td>0.001783</td>\n      <td>-0.002235</td>\n      <td>NaN</td>\n      <td>0.083605</td>\n      <td>0.035714</td>\n      <td>0.000000</td>\n      <td>0.000000</td>\n      <td>-0.004082</td>\n      <td>-0.009643</td>\n      <td>-0.077586</td>\n      <td>...</td>\n      <td>-0.058824</td>\n      <td>0.037258</td>\n      <td>NaN</td>\n      <td>NaN</td>\n      <td>NaN</td>\n      <td>0.009804</td>\n      <td>0.055556</td>\n      <td>NaN</td>\n      <td>NaN</td>\n      <td>-0.013021</td>\n    </tr>\n    <tr>\n      <th>2023-39</th>\n      <td>-0.003559</td>\n      <td>-0.023152</td>\n      <td>NaN</td>\n      <td>-0.033755</td>\n      <td>0.000000</td>\n      <td>-0.029915</td>\n      <td>-0.021739</td>\n      <td>0.000000</td>\n      <td>0.014606</td>\n      <td>0.099688</td>\n      <td>...</td>\n      <td>0.033654</td>\n      <td>0.005029</td>\n      <td>NaN</td>\n      <td>NaN</td>\n      <td>NaN</td>\n      <td>0.004854</td>\n      <td>0.036011</td>\n      <td>NaN</td>\n      <td>NaN</td>\n      <td>0.058047</td>\n    </tr>\n    <tr>\n      <th>2023-41</th>\n      <td>-0.017857</td>\n      <td>-0.037462</td>\n      <td>NaN</td>\n      <td>0.119152</td>\n      <td>0.013793</td>\n      <td>-0.033040</td>\n      <td>0.004444</td>\n      <td>-0.028689</td>\n      <td>0.005758</td>\n      <td>0.056657</td>\n      <td>...</td>\n      <td>-0.032558</td>\n      <td>-0.003574</td>\n      <td>NaN</td>\n      <td>NaN</td>\n      <td>NaN</td>\n      <td>-0.004831</td>\n      <td>-0.048128</td>\n      <td>NaN</td>\n      <td>NaN</td>\n      <td>-0.034913</td>\n    </tr>\n    <tr>\n      <th>2023-42</th>\n      <td>-0.036364</td>\n      <td>-0.073868</td>\n      <td>NaN</td>\n      <td>-0.100892</td>\n      <td>-0.013605</td>\n      <td>-0.031891</td>\n      <td>0.050885</td>\n      <td>-0.016878</td>\n      <td>-0.025763</td>\n      <td>-0.050938</td>\n      <td>...</td>\n      <td>-0.038462</td>\n      <td>-0.033716</td>\n      <td>NaN</td>\n      <td>NaN</td>\n      <td>NaN</td>\n      <td>-0.038835</td>\n      <td>-0.129213</td>\n      <td>NaN</td>\n      <td>NaN</td>\n      <td>-0.085271</td>\n    </tr>\n    <tr>\n      <th>2023-43</th>\n      <td>-0.014151</td>\n      <td>-0.002573</td>\n      <td>NaN</td>\n      <td>0.031618</td>\n      <td>-0.020690</td>\n      <td>0.016471</td>\n      <td>0.012632</td>\n      <td>0.012876</td>\n      <td>0.004897</td>\n      <td>0.110169</td>\n      <td>...</td>\n      <td>0.020000</td>\n      <td>0.011136</td>\n      <td>NaN</td>\n      <td>NaN</td>\n      <td>NaN</td>\n      <td>0.000000</td>\n      <td>0.012903</td>\n      <td>NaN</td>\n      <td>NaN</td>\n      <td>0.045198</td>\n    </tr>\n  </tbody>\n</table>\n<p>1674 rows × 5647 columns</p>\n</div>"
     },
     "execution_count": 5,
     "metadata": {},
     "output_type": "execute_result"
    }
   ],
   "source": [
    "df = clean(data_path, 'ts')\n",
    "df"
   ],
   "metadata": {
    "collapsed": false
   }
  },
  {
   "cell_type": "code",
   "execution_count": 6,
   "outputs": [
    {
     "data": {
      "text/plain": "id         000001    000002    000004    000005    000006    000007    000008  \\\ndate                                                                            \n2022-27  0.048489  0.112323 -0.011853  0.011050  0.019912  0.080576 -0.004016   \n2022-28 -0.025469 -0.054902  0.075245 -0.092896 -0.043384  0.031957 -0.008065   \n2022-29 -0.089409 -0.086100 -0.161258  0.018072 -0.058957  0.018065 -0.032520   \n2022-30 -0.015257 -0.013621  0.091898  0.059172  0.012048 -0.086185  0.054622   \n2022-31 -0.010148 -0.009781  0.019934  0.022346  0.004762  0.022191  0.003984   \n...           ...       ...       ...       ...       ...       ...       ...   \n2023-38  0.001783 -0.002235  0.083605  0.035714  0.000000  0.000000 -0.004082   \n2023-39 -0.003559 -0.023152 -0.033755  0.000000 -0.029915 -0.021739  0.000000   \n2023-41 -0.017857 -0.037462  0.119152  0.013793 -0.033040  0.004444 -0.028689   \n2023-42 -0.036364 -0.073868 -0.100892 -0.013605 -0.031891  0.050885 -0.016878   \n2023-43 -0.014151 -0.002573  0.031618 -0.020690  0.016471  0.012632  0.012876   \n\nid         000009    000010    000011  ...    900941    900942    900943  \\\ndate                                   ...                                 \n2022-27 -0.014154 -0.089412  0.032787  ... -0.004673  0.165572  0.043933   \n2022-28 -0.058148 -0.023256 -0.027967  ...  0.091549 -0.030573 -0.016032   \n2022-29 -0.069360 -0.074074 -0.139191  ... -0.035294 -0.001314  0.030550   \n2022-30 -0.009009  0.051429  0.008662  ...  0.021951  0.031579  0.019763   \n2022-31  0.176033  0.002717  0.019084  ...  0.000000 -0.016582 -0.009690   \n...           ...       ...       ...  ...       ...       ...       ...   \n2023-38 -0.009643 -0.077586 -0.009009  ...  0.007653 -0.009777  0.002024   \n2023-39  0.014606  0.099688 -0.013131  ...  0.007595  0.012694  0.006061   \n2023-41  0.005758  0.056657 -0.037871  ...  0.002513 -0.013928  0.008032   \n2023-42 -0.025763 -0.050938 -0.018085  ... -0.060150 -0.018362 -0.061753   \n2023-43  0.004897  0.110169  0.016251  ...  0.032000  0.023022 -0.048832   \n\nid         900945    900946    900947    900948    900952    900953    900957  \ndate                                                                           \n2022-27  0.015075 -0.028571  0.019380  0.041184  0.007692  0.179245 -0.034768  \n2022-28 -0.009901 -0.021008 -0.007605  0.010507 -0.007634  0.088000  0.025729  \n2022-29 -0.065000 -0.034335 -0.011494  0.516820 -0.003846 -0.110294 -0.055184  \n2022-30  0.016043  0.026667  0.027132  0.007742  0.011583  0.008264  0.023009  \n2022-31  0.005263  0.008658  0.003774  0.008323  0.000000  0.030738  0.010381  \n...           ...       ...       ...       ...       ...       ...       ...  \n2023-38  0.010204  0.000000 -0.058824  0.037258  0.009804  0.055556 -0.013021  \n2023-39  0.030303  0.031447  0.033654  0.005029  0.004854  0.036011  0.058047  \n2023-41 -0.044118 -0.012195 -0.032558 -0.003574 -0.004831 -0.048128 -0.034913  \n2023-42 -0.076923  0.012346 -0.038462 -0.033716 -0.038835 -0.129213 -0.085271  \n2023-43  0.011111  0.012195  0.020000  0.011136  0.000000  0.012903  0.045198  \n\n[67 rows x 4735 columns]",
      "text/html": "<div>\n<style scoped>\n    .dataframe tbody tr th:only-of-type {\n        vertical-align: middle;\n    }\n\n    .dataframe tbody tr th {\n        vertical-align: top;\n    }\n\n    .dataframe thead th {\n        text-align: right;\n    }\n</style>\n<table border=\"1\" class=\"dataframe\">\n  <thead>\n    <tr style=\"text-align: right;\">\n      <th>id</th>\n      <th>000001</th>\n      <th>000002</th>\n      <th>000004</th>\n      <th>000005</th>\n      <th>000006</th>\n      <th>000007</th>\n      <th>000008</th>\n      <th>000009</th>\n      <th>000010</th>\n      <th>000011</th>\n      <th>...</th>\n      <th>900941</th>\n      <th>900942</th>\n      <th>900943</th>\n      <th>900945</th>\n      <th>900946</th>\n      <th>900947</th>\n      <th>900948</th>\n      <th>900952</th>\n      <th>900953</th>\n      <th>900957</th>\n    </tr>\n    <tr>\n      <th>date</th>\n      <th></th>\n      <th></th>\n      <th></th>\n      <th></th>\n      <th></th>\n      <th></th>\n      <th></th>\n      <th></th>\n      <th></th>\n      <th></th>\n      <th></th>\n      <th></th>\n      <th></th>\n      <th></th>\n      <th></th>\n      <th></th>\n      <th></th>\n      <th></th>\n      <th></th>\n      <th></th>\n      <th></th>\n    </tr>\n  </thead>\n  <tbody>\n    <tr>\n      <th>2022-27</th>\n      <td>0.048489</td>\n      <td>0.112323</td>\n      <td>-0.011853</td>\n      <td>0.011050</td>\n      <td>0.019912</td>\n      <td>0.080576</td>\n      <td>-0.004016</td>\n      <td>-0.014154</td>\n      <td>-0.089412</td>\n      <td>0.032787</td>\n      <td>...</td>\n      <td>-0.004673</td>\n      <td>0.165572</td>\n      <td>0.043933</td>\n      <td>0.015075</td>\n      <td>-0.028571</td>\n      <td>0.019380</td>\n      <td>0.041184</td>\n      <td>0.007692</td>\n      <td>0.179245</td>\n      <td>-0.034768</td>\n    </tr>\n    <tr>\n      <th>2022-28</th>\n      <td>-0.025469</td>\n      <td>-0.054902</td>\n      <td>0.075245</td>\n      <td>-0.092896</td>\n      <td>-0.043384</td>\n      <td>0.031957</td>\n      <td>-0.008065</td>\n      <td>-0.058148</td>\n      <td>-0.023256</td>\n      <td>-0.027967</td>\n      <td>...</td>\n      <td>0.091549</td>\n      <td>-0.030573</td>\n      <td>-0.016032</td>\n      <td>-0.009901</td>\n      <td>-0.021008</td>\n      <td>-0.007605</td>\n      <td>0.010507</td>\n      <td>-0.007634</td>\n      <td>0.088000</td>\n      <td>0.025729</td>\n    </tr>\n    <tr>\n      <th>2022-29</th>\n      <td>-0.089409</td>\n      <td>-0.086100</td>\n      <td>-0.161258</td>\n      <td>0.018072</td>\n      <td>-0.058957</td>\n      <td>0.018065</td>\n      <td>-0.032520</td>\n      <td>-0.069360</td>\n      <td>-0.074074</td>\n      <td>-0.139191</td>\n      <td>...</td>\n      <td>-0.035294</td>\n      <td>-0.001314</td>\n      <td>0.030550</td>\n      <td>-0.065000</td>\n      <td>-0.034335</td>\n      <td>-0.011494</td>\n      <td>0.516820</td>\n      <td>-0.003846</td>\n      <td>-0.110294</td>\n      <td>-0.055184</td>\n    </tr>\n    <tr>\n      <th>2022-30</th>\n      <td>-0.015257</td>\n      <td>-0.013621</td>\n      <td>0.091898</td>\n      <td>0.059172</td>\n      <td>0.012048</td>\n      <td>-0.086185</td>\n      <td>0.054622</td>\n      <td>-0.009009</td>\n      <td>0.051429</td>\n      <td>0.008662</td>\n      <td>...</td>\n      <td>0.021951</td>\n      <td>0.031579</td>\n      <td>0.019763</td>\n      <td>0.016043</td>\n      <td>0.026667</td>\n      <td>0.027132</td>\n      <td>0.007742</td>\n      <td>0.011583</td>\n      <td>0.008264</td>\n      <td>0.023009</td>\n    </tr>\n    <tr>\n      <th>2022-31</th>\n      <td>-0.010148</td>\n      <td>-0.009781</td>\n      <td>0.019934</td>\n      <td>0.022346</td>\n      <td>0.004762</td>\n      <td>0.022191</td>\n      <td>0.003984</td>\n      <td>0.176033</td>\n      <td>0.002717</td>\n      <td>0.019084</td>\n      <td>...</td>\n      <td>0.000000</td>\n      <td>-0.016582</td>\n      <td>-0.009690</td>\n      <td>0.005263</td>\n      <td>0.008658</td>\n      <td>0.003774</td>\n      <td>0.008323</td>\n      <td>0.000000</td>\n      <td>0.030738</td>\n      <td>0.010381</td>\n    </tr>\n    <tr>\n      <th>...</th>\n      <td>...</td>\n      <td>...</td>\n      <td>...</td>\n      <td>...</td>\n      <td>...</td>\n      <td>...</td>\n      <td>...</td>\n      <td>...</td>\n      <td>...</td>\n      <td>...</td>\n      <td>...</td>\n      <td>...</td>\n      <td>...</td>\n      <td>...</td>\n      <td>...</td>\n      <td>...</td>\n      <td>...</td>\n      <td>...</td>\n      <td>...</td>\n      <td>...</td>\n      <td>...</td>\n    </tr>\n    <tr>\n      <th>2023-38</th>\n      <td>0.001783</td>\n      <td>-0.002235</td>\n      <td>0.083605</td>\n      <td>0.035714</td>\n      <td>0.000000</td>\n      <td>0.000000</td>\n      <td>-0.004082</td>\n      <td>-0.009643</td>\n      <td>-0.077586</td>\n      <td>-0.009009</td>\n      <td>...</td>\n      <td>0.007653</td>\n      <td>-0.009777</td>\n      <td>0.002024</td>\n      <td>0.010204</td>\n      <td>0.000000</td>\n      <td>-0.058824</td>\n      <td>0.037258</td>\n      <td>0.009804</td>\n      <td>0.055556</td>\n      <td>-0.013021</td>\n    </tr>\n    <tr>\n      <th>2023-39</th>\n      <td>-0.003559</td>\n      <td>-0.023152</td>\n      <td>-0.033755</td>\n      <td>0.000000</td>\n      <td>-0.029915</td>\n      <td>-0.021739</td>\n      <td>0.000000</td>\n      <td>0.014606</td>\n      <td>0.099688</td>\n      <td>-0.013131</td>\n      <td>...</td>\n      <td>0.007595</td>\n      <td>0.012694</td>\n      <td>0.006061</td>\n      <td>0.030303</td>\n      <td>0.031447</td>\n      <td>0.033654</td>\n      <td>0.005029</td>\n      <td>0.004854</td>\n      <td>0.036011</td>\n      <td>0.058047</td>\n    </tr>\n    <tr>\n      <th>2023-41</th>\n      <td>-0.017857</td>\n      <td>-0.037462</td>\n      <td>0.119152</td>\n      <td>0.013793</td>\n      <td>-0.033040</td>\n      <td>0.004444</td>\n      <td>-0.028689</td>\n      <td>0.005758</td>\n      <td>0.056657</td>\n      <td>-0.037871</td>\n      <td>...</td>\n      <td>0.002513</td>\n      <td>-0.013928</td>\n      <td>0.008032</td>\n      <td>-0.044118</td>\n      <td>-0.012195</td>\n      <td>-0.032558</td>\n      <td>-0.003574</td>\n      <td>-0.004831</td>\n      <td>-0.048128</td>\n      <td>-0.034913</td>\n    </tr>\n    <tr>\n      <th>2023-42</th>\n      <td>-0.036364</td>\n      <td>-0.073868</td>\n      <td>-0.100892</td>\n      <td>-0.013605</td>\n      <td>-0.031891</td>\n      <td>0.050885</td>\n      <td>-0.016878</td>\n      <td>-0.025763</td>\n      <td>-0.050938</td>\n      <td>-0.018085</td>\n      <td>...</td>\n      <td>-0.060150</td>\n      <td>-0.018362</td>\n      <td>-0.061753</td>\n      <td>-0.076923</td>\n      <td>0.012346</td>\n      <td>-0.038462</td>\n      <td>-0.033716</td>\n      <td>-0.038835</td>\n      <td>-0.129213</td>\n      <td>-0.085271</td>\n    </tr>\n    <tr>\n      <th>2023-43</th>\n      <td>-0.014151</td>\n      <td>-0.002573</td>\n      <td>0.031618</td>\n      <td>-0.020690</td>\n      <td>0.016471</td>\n      <td>0.012632</td>\n      <td>0.012876</td>\n      <td>0.004897</td>\n      <td>0.110169</td>\n      <td>0.016251</td>\n      <td>...</td>\n      <td>0.032000</td>\n      <td>0.023022</td>\n      <td>-0.048832</td>\n      <td>0.011111</td>\n      <td>0.012195</td>\n      <td>0.020000</td>\n      <td>0.011136</td>\n      <td>0.000000</td>\n      <td>0.012903</td>\n      <td>0.045198</td>\n    </tr>\n  </tbody>\n</table>\n<p>67 rows × 4735 columns</p>\n</div>"
     },
     "execution_count": 6,
     "metadata": {},
     "output_type": "execute_result"
    }
   ],
   "source": [
    "df_sample = df[df.index > '2022-26']\n",
    "df_week = df_sample.dropna(axis=1)\n",
    "df_week"
   ],
   "metadata": {
    "collapsed": false
   }
  },
  {
   "cell_type": "code",
   "execution_count": 7,
   "outputs": [
    {
     "data": {
      "text/plain": "array([], dtype=float64)"
     },
     "execution_count": 7,
     "metadata": {},
     "output_type": "execute_result"
    }
   ],
   "source": [
    "cov_matrix = df_week.cov().values\n",
    "mu = df_week.mean().values\n",
    "expected_return_of_portfolio = 0.0035\n",
    "rf = 0.035/52\n",
    "cov_matrix\n",
    "# check if the matrix is symmetric\n",
    "def symmetric_check(matrix):\n",
    "    return matrix[np.where(np.isclose(matrix, matrix.T, atol=1e-8) == False)]\n",
    "symmetric_check(cov_matrix)"
   ],
   "metadata": {
    "collapsed": false
   }
  },
  {
   "cell_type": "code",
   "execution_count": 32,
   "outputs": [
    {
     "name": "stdout",
     "output_type": "stream",
     "text": [
      "最优权重: [1.73453364e-07 7.78014431e-08 1.35867654e-07 ... 1.16763775e-07\n",
      " 2.52205068e-07 2.82970317e-07]\n",
      "最小方差: 1.5485014745242196e-05\n"
     ]
    }
   ],
   "source": [
    "# 定义变量\n",
    "weights = cv.Variable(len(mu))\n",
    "#\n",
    "# 定义目标函数\n",
    "objective = cv.Minimize(cv.quad_form(weights, cov_matrix, assume_PSD=True))\n",
    "\n",
    "# 定义约束条件\n",
    "constraints = [\n",
    "    cv.sum(weights) == 1,  # 权重之和为1\n",
    "    weights.T @ mu == expected_return_of_portfolio,  # 期望收益率为给定值\n",
    "    weights >= 0,  # 权重大于等于0\n",
    "]\n",
    "\n",
    "# 创建问题并求解\n",
    "problem = cv.Problem(objective, constraints)\n",
    "problem.solve()\n",
    "\n",
    "# 输出结果\n",
    "print(\"最优权重:\", weights.value)\n",
    "print(\"最小方差:\", problem.value)\n"
   ],
   "metadata": {
    "collapsed": false
   }
  },
  {
   "cell_type": "code",
   "execution_count": 33,
   "outputs": [
    {
     "name": "stdout",
     "output_type": "stream",
     "text": [
      "组合收益率: 0.003501690536140696\n",
      "组合风险: 0.003935100347544163\n",
      "夏普比率: 0.7188161325616685\n"
     ]
    }
   ],
   "source": [
    "threshold = 0.0001\n",
    "weights.value[np.abs(weights.value) < threshold] = 0\n",
    "weights.value[weights.value > 0]\n",
    "portfolio_return = weights.value @ mu\n",
    "portfolio_risk = problem.value ** 0.5\n",
    "# 输出组合收益率，组合风险和夏普比率\n",
    "print(\"组合收益率:\", portfolio_return)\n",
    "print(\"组合风险:\", portfolio_risk)\n",
    "print(\"夏普比率:\", (portfolio_return - rf) / portfolio_risk)"
   ],
   "metadata": {
    "collapsed": false
   }
  },
  {
   "cell_type": "code",
   "execution_count": 34,
   "outputs": [
    {
     "name": "stdout",
     "output_type": "stream",
     "text": [
      "0.03106946268656717\n"
     ]
    },
    {
     "data": {
      "text/plain": "-0.019235641791044776"
     },
     "execution_count": 34,
     "metadata": {},
     "output_type": "execute_result"
    }
   ],
   "source": [
    "print(mu.max())\n",
    "mu.min()"
   ],
   "metadata": {
    "collapsed": false
   }
  },
  {
   "cell_type": "code",
   "execution_count": 8,
   "outputs": [],
   "source": [
    "e_range = np.linspace(mu.min(), mu.max(), 1000)\n",
    "def solve(e, cov, mu_vector):\n",
    "    import cvxpy\n",
    "    weights = cvxpy.Variable(len(mu_vector))\n",
    "    objective = cvxpy.Minimize(cvxpy.quad_form(weights, cov, assume_PSD=True))\n",
    "    constraints = [\n",
    "        cvxpy.sum(weights) == 1,  # 权重之和为1\n",
    "        weights.T @ mu_vector == e,  # 期望收益率为给定值\n",
    "        weights >= 0,  # 权重大于等于0\n",
    "    ]\n",
    "    problem = cvxpy.Problem(objective, constraints)\n",
    "    problem.solve()\n",
    "    return problem.value ** 0.5\n",
    "\n",
    "partial_solve = partial(solve, cov=cov_matrix, mu_vector=mu)\n"
   ],
   "metadata": {
    "collapsed": false
   }
  },
  {
   "cell_type": "code",
   "execution_count": 9,
   "outputs": [],
   "source": [
    "risk = partial_solve(0.0035)"
   ],
   "metadata": {
    "collapsed": false
   }
  },
  {
   "cell_type": "code",
   "execution_count": 10,
   "outputs": [
    {
     "data": {
      "text/plain": "0.003935100347544163"
     },
     "execution_count": 10,
     "metadata": {},
     "output_type": "execute_result"
    }
   ],
   "source": [
    "risk"
   ],
   "metadata": {
    "collapsed": false
   }
  },
  {
   "cell_type": "code",
   "execution_count": null,
   "outputs": [],
   "source": [
    "with Pool(10) as p:\n",
    "    risks = p.map(partial_solve, e_range)\n",
    "risks"
   ],
   "metadata": {
    "collapsed": false,
    "pycharm": {
     "is_executing": true
    }
   }
  },
  {
   "cell_type": "code",
   "execution_count": null,
   "outputs": [],
   "source": [],
   "metadata": {
    "collapsed": false,
    "pycharm": {
     "is_executing": true
    }
   }
  },
  {
   "cell_type": "code",
   "execution_count": null,
   "outputs": [],
   "source": [],
   "metadata": {
    "collapsed": false,
    "pycharm": {
     "is_executing": true
    }
   }
  },
  {
   "cell_type": "code",
   "execution_count": null,
   "outputs": [],
   "source": [],
   "metadata": {
    "collapsed": false,
    "pycharm": {
     "is_executing": true
    }
   }
  },
  {
   "cell_type": "code",
   "execution_count": null,
   "outputs": [],
   "source": [],
   "metadata": {
    "collapsed": false
   }
  }
 ],
 "metadata": {
  "kernelspec": {
   "display_name": "Python 3",
   "language": "python",
   "name": "python3"
  },
  "language_info": {
   "codemirror_mode": {
    "name": "ipython",
    "version": 2
   },
   "file_extension": ".py",
   "mimetype": "text/x-python",
   "name": "python",
   "nbconvert_exporter": "python",
   "pygments_lexer": "ipython2",
   "version": "2.7.6"
  }
 },
 "nbformat": 4,
 "nbformat_minor": 0
}
